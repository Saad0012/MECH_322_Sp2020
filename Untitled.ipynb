{
 "cells": [
  {
   "cell_type": "markdown",
   "metadata": {},
   "source": [
    "# MECH 322 Grade Calculator\n",
    "___"
   ]
  },
  {
   "cell_type": "code",
   "execution_count": 63,
   "metadata": {},
   "outputs": [],
   "source": [
    "def mech322_grade(py_list, cpy_list=[], numpy_list=[], test=\"\", proj=\"\"):\n",
    "    \"\"\"\n",
    "    Base grade for assignments equals the best category base.\n",
    "        Python:\n",
    "            A: >= 100 with <= 1 scores == 2 and no scores == 0\n",
    "            B: >= 89 with <= 1 score == 0 and <= 3 scores < 3\n",
    "            C: >= 78 with <= 3 scores == 0\n",
    "            D: >= 68\n",
    "            F: <68\n",
    "        CircuitPython:\n",
    "            A: >= 55 with <= 1 scores == 2 and no scores == 0\n",
    "            B: >= 49 with <= 1 score == 0 and <= 2 scores < 3\n",
    "            C: >= 43 with <= 2 scores == 0\n",
    "            D: >= 37\n",
    "            F: <37\n",
    "        NumPy:\n",
    "            A: >= 52 with <= 1 scores == 2 and no scores == 0\n",
    "            B: >= 46 with <= 1 score == 0 and <= 2 scores < 3\n",
    "            C: >= 40 with <= 2 scores == 0\n",
    "            D: >= 35\n",
    "            F: <35\n",
    "    \"\"\"\n",
    "    import numpy as np\n",
    "    scores = np.array([4, 3, 2, 0])\n",
    "    grade_dict = {4:\"A\", 3:\"B\", 2:\"C\", 1:\"D\", 0:\"F\"}\n",
    "    \n",
    "    # Python Calculations\n",
    "    if sum(py_list) > 27:\n",
    "        return \"Too many Python Grades\"\n",
    "    py_total = np.sum(np.array(py_list) * scores)\n",
    "    py_remaining = 27 - sum(py_list)\n",
    "    \n",
    "    if py_total + py_remaining*4 >= 100:\n",
    "        if (py_list[2] <= 1) and (py_list[3] == 0):\n",
    "            py_grade = 4\n",
    "        elif (sum(py_list[2:]) <= 3) and (py_list[3] <= 1):\n",
    "            py_grade = 3\n",
    "        elif py_list[3] <= 3:\n",
    "            py_grade = 2\n",
    "        else:\n",
    "            py_grade = 1\n",
    "    elif py_total + py_remaining*4 >= 89:\n",
    "        if (sum(py_list[2:]) <= 3) and (py_list[3] <= 1):\n",
    "            py_grade = 3\n",
    "        else:\n",
    "            py_grade = 2\n",
    "    elif py_total + py_remaining*4 >= 78:\n",
    "        if py_list[3] <= 3:\n",
    "            py_grade = 2\n",
    "        else:\n",
    "            py_grade = 1\n",
    "    elif py_total + py_remaining*4 >= 68:\n",
    "        py_grade = 1\n",
    "    else:\n",
    "        py_grade = 0\n",
    "\n",
    "    # CircuitPython Calculations\n",
    "    if cpy_list != []:\n",
    "        if sum(cpy_list) > 15:\n",
    "            return \"Too many CircuitPython Grades\"\n",
    "        cpy_total = np.sum(np.array(cpy_list) * scores)\n",
    "        cpy_remaining = 27 - sum(cpy_list)\n",
    "            \n",
    "        if cpy_total + cpy_remaining*4 >= 55:\n",
    "            if (cpy_list[2] <= 1) and (cpy_list[3] == 0):\n",
    "                cpy_grade = 4\n",
    "            elif (sum(cpy_list[2:]) <= 2) and (cpy_list[3] <= 1):\n",
    "                cpy_grade = 3\n",
    "            elif cpy_list[3] <= 2:\n",
    "                cpy_grade = 2\n",
    "            else:\n",
    "                cpy_grade = 1\n",
    "        elif cpy_total + cpy_remaining*4 >= 49:\n",
    "            if (sum(cpy_list[2:]) <= 2) and (cpy_list[3] <= 1):\n",
    "                cpy_grade = 3\n",
    "            elif cpy_list[3] <= 2:\n",
    "                cpy_grade = 2\n",
    "            else:\n",
    "                cpy_grade = 1\n",
    "        elif cpy_total + cpy_remaining*4 >= 43:\n",
    "            if cpy_list[3] <= 2:\n",
    "                cpy_grade = 2\n",
    "            else:\n",
    "                cpy_grade = 1\n",
    "        elif cpy_total + cpy_remaining*4 >= 37:\n",
    "            cpy_grade = 1\n",
    "        else:\n",
    "            cpy_grade = 0\n",
    "    else:\n",
    "        cpy_total = 0\n",
    "        cpy_grade = 4\n",
    "    \n",
    "    # NumPy Calculations\n",
    "    if numpy_list != []:\n",
    "        if sum(numpy_list) > 14:\n",
    "            return \"Too many NumPy Grades\"\n",
    "        numpy_total = np.sum(np.array(numpy_list) * scores)\n",
    "        numpy_remaining = 27 - sum(numpy_list)\n",
    "            \n",
    "        if numpy_total + numpy_remaining*4 >= 52:\n",
    "            if (numpy_list[2] <= 1) and (numpy_list[3] == 0):\n",
    "                numpy_grade = 4\n",
    "            elif (sum(numpy_list[2:]) <= 2) and (numpy_list[3] <= 1):\n",
    "                numpy_grade = 3\n",
    "            elif numpy_list[3] <= 2:\n",
    "                numpy_grade = 2\n",
    "            else:\n",
    "                numpy_grade = 1\n",
    "        elif numpy_total + numpy_remaining*4 >= 46:\n",
    "            if (sum(numpy_list[2:]) <= 2) and (numpy_list[3] <= 1):\n",
    "                numpy_grade = 3\n",
    "            elif numpy_list[3] <= 2:\n",
    "                numpy_grade = 2\n",
    "            else:\n",
    "                numpy_grade = 1\n",
    "        elif numpy_total + numpy_remaining*4 >= 40:\n",
    "            if numpy_list[3] <= 2:\n",
    "                numpy_grade = 2\n",
    "            else:\n",
    "                numpy_grade = 1\n",
    "        elif numpy_total + numpy_remaining*4 >= 35:\n",
    "            numpy_grade = 1\n",
    "        else:\n",
    "            numpy_grade = 0\n",
    "    else:\n",
    "        numpy_total = 0\n",
    "        numpy_grade = 4    \n",
    "    \n",
    "    \n",
    "    \n",
    "    return ((sum(py_list), py_total, grade_dict[py_grade]), \n",
    "            (sum(cpy_list), cpy_total, grade_dict[cpy_grade]), \n",
    "            (sum(numpy_list), numpy_total, grade_dict[numpy_grade]))"
   ]
  },
  {
   "cell_type": "code",
   "execution_count": 64,
   "metadata": {},
   "outputs": [
    {
     "data": {
      "text/plain": [
       "((23, 88, 'A'), (0, 0, 'A'), (0, 0, 'A'))"
      ]
     },
     "execution_count": 64,
     "metadata": {},
     "output_type": "execute_result"
    }
   ],
   "source": [
    "mech322_grade([20, 2, 1, 0])"
   ]
  },
  {
   "cell_type": "code",
   "execution_count": null,
   "metadata": {},
   "outputs": [],
   "source": []
  }
 ],
 "metadata": {
  "kernelspec": {
   "display_name": "Python 3",
   "language": "python",
   "name": "python3"
  },
  "language_info": {
   "codemirror_mode": {
    "name": "ipython",
    "version": 3
   },
   "file_extension": ".py",
   "mimetype": "text/x-python",
   "name": "python",
   "nbconvert_exporter": "python",
   "pygments_lexer": "ipython3",
   "version": "3.7.4"
  },
  "varInspector": {
   "cols": {
    "lenName": 16,
    "lenType": 16,
    "lenVar": 40
   },
   "kernels_config": {
    "python": {
     "delete_cmd_postfix": "",
     "delete_cmd_prefix": "del ",
     "library": "var_list.py",
     "varRefreshCmd": "print(var_dic_list())"
    },
    "r": {
     "delete_cmd_postfix": ") ",
     "delete_cmd_prefix": "rm(",
     "library": "var_list.r",
     "varRefreshCmd": "cat(var_dic_list()) "
    }
   },
   "types_to_exclude": [
    "module",
    "function",
    "builtin_function_or_method",
    "instance",
    "_Feature"
   ],
   "window_display": false
  }
 },
 "nbformat": 4,
 "nbformat_minor": 2
}
