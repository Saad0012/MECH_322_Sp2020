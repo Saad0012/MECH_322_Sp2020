{
 "cells": [
  {
   "cell_type": "markdown",
   "metadata": {
    "deletable": false,
    "editable": false,
    "run_control": {
     "frozen": true
    }
   },
   "source": [
    "# CPy 1.01 - Push Buttons and LED - Solution\n",
    "___"
   ]
  },
  {
   "cell_type": "markdown",
   "metadata": {},
   "source": [
    "## Instructions\n",
    "\n",
    "Use commands from the `digitalio` module to control the lighting of the built-in red LED with the two built-in push buttons. Inside the main loop continually test the value of the push buttons to determine whether to turn on the LED. Do not use the `adafruit_circuitplayground` module for this script.\n",
    "\n",
    "Turn on the LED only if both buttons are pressed at the same time. Otherwise the LED should be turned off. You will need to use a logical comparison operator in an `if` statement for this one."
   ]
  },
  {
   "cell_type": "code",
   "execution_count": null,
   "metadata": {},
   "outputs": [],
   "source": [
    "# Push Buttons and LED\n",
    "\n",
    "import time\n",
    "import board\n",
    "import digitalio\n",
    "\n",
    "# define the two push buttons as digital inputs\n",
    "# and name them button_1 and button_2\n",
    "# make sure you set the pull to DOWN for both\n",
    "button_1 = digitalio.DigitalInOut(board.BUTTON_A)\n",
    "button_1.switch_to_input(pull=digitalio.Pull.DOWN)\n",
    "button_2 = digitalio.DigitalInOut(board.BUTTON_B)\n",
    "button_2.switch_to_input(pull=digitalio.Pull.DOWN)\n",
    "\n",
    "# define the LED as a digital output and name it red_LED\n",
    "red_LED = digitalio.DigitalInOut(board.D13)\n",
    "red_LED.switch_to_output()\n",
    "\n",
    "while True:\n",
    "    if button_1.value and button_2.value:\n",
    "        red_LED.value = True\n",
    "    else:\n",
    "        red_LED.value = False\n",
    "        \n",
    "\n",
    "\n"
   ]
  }
 ],
 "metadata": {
  "kernelspec": {
   "display_name": "Python 3",
   "language": "python",
   "name": "python3"
  },
  "language_info": {
   "codemirror_mode": {
    "name": "ipython",
    "version": 3
   },
   "file_extension": ".py",
   "mimetype": "text/x-python",
   "name": "python",
   "nbconvert_exporter": "python",
   "pygments_lexer": "ipython3",
   "version": "3.7.4"
  },
  "varInspector": {
   "cols": {
    "lenName": 16,
    "lenType": 16,
    "lenVar": 40
   },
   "kernels_config": {
    "python": {
     "delete_cmd_postfix": "",
     "delete_cmd_prefix": "del ",
     "library": "var_list.py",
     "varRefreshCmd": "print(var_dic_list())"
    },
    "r": {
     "delete_cmd_postfix": ") ",
     "delete_cmd_prefix": "rm(",
     "library": "var_list.r",
     "varRefreshCmd": "cat(var_dic_list()) "
    }
   },
   "types_to_exclude": [
    "module",
    "function",
    "builtin_function_or_method",
    "instance",
    "_Feature"
   ],
   "window_display": false
  }
 },
 "nbformat": 4,
 "nbformat_minor": 2
}
