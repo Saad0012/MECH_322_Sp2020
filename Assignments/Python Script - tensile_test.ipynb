{
 "cells": [
  {
   "cell_type": "markdown",
   "metadata": {
    "deletable": false,
    "editable": false,
    "run_control": {
     "frozen": true
    }
   },
   "source": [
    "# Python Script: `tensile_test.py`\n",
    "___"
   ]
  },
  {
   "cell_type": "code",
   "execution_count": null,
   "metadata": {},
   "outputs": [],
   "source": [
    "name = \"Your name here\"\n",
    "print(\"Name:\", name.upper())"
   ]
  },
  {
   "cell_type": "markdown",
   "metadata": {
    "deletable": false,
    "editable": false,
    "run_control": {
     "frozen": true
    }
   },
   "source": [
    "## General Script Instructions\n",
    "\n",
    "- Include comments in your script with your name and the script purpose (not just the name of the script)\n",
    "- Include nicely formatted title lines in your script that display the script name and your name before asking for any input or showing any results\n",
    "- Provide the requested results in addition to any required plot(s)\n",
    "- You must use variables (not numbers) in your calculations where variables are provided in the problem statement\n",
    "- Your script must be self-contained, meaning you need to import all external modules and define all functions needed within the script\n",
    "- **You must use *NumPy* for all calculations; no list comprehensions or looping**"
   ]
  },
  {
   "cell_type": "markdown",
   "metadata": {
    "deletable": false,
    "editable": false,
    "run_control": {
     "frozen": true
    }
   },
   "source": [
    "## `tensile_test.py`\n",
    "\n",
    "In a typical tension test a dog bone shaped specimen is pulled in a machine. During the test, the force $F$ needed to pull the specimen and the length $L$ of the gage section are measured. This data is used for plotting a stress-strain diagram for the material. Two definitions, engineering and true, exist for stress and strain. The engineering stress $\\sigma_e$ and strain $\\varepsilon_e$ are defined by\n",
    "\n",
    "$\\qquad\\displaystyle \\sigma_e = \\frac{F}{A_0}\\qquad$ and $\\qquad\\displaystyle \\varepsilon_e = \\frac{L-L_0}{L_0}$\n",
    "\n",
    "where $L_0$ and $A_0$ are the initial gage length and the initial cross-sectional area of the specimen, respectively.\n",
    "\n",
    "The true stress $\\sigma_t$ and strain $\\varepsilon_t$ are defined by \n",
    "\n",
    "$\\qquad\\displaystyle \\sigma_t = \\frac{F}{A_0}\\frac{L}{L_0}\\qquad$ and $\\qquad\\displaystyle \\varepsilon_t = \\ln{\\frac{L}{L_0}}$.\n",
    "\n",
    "\n",
    "\n",
    "Write a script named **`tensile_test.py`** that reads raw tensile data from a file and plots the engineering and true stress-strain curves in the same window.  For the data, use the provided file named `tensile_values.csv`. The specimen has a round cross section. The first line of the data file has two values; the specimen's initial diameter and initial gage length (both in millimeters). The remaining lines each have two values that were collected during the tensile test; the force in Newtons and the gage length in millimeters.\n",
    "\n",
    "Import the `csv` module near the top of your script. This module can be used to extract values from .CSV files. Add the following code to your script to read the values from the .CSV file and assign the correct values to *NumPy* arrays named `specimen`, `F`, and `L`.\n",
    "\n",
    "```python\n",
    "with open('tensile_values.csv', newline='') as csvfile:\n",
    "    csv_list = list(csv.reader(csvfile, delimiter=',', quoting=csv.QUOTE_NONNUMERIC))\n",
    "    specimen = np.array(csv_list[0])\n",
    "    F = np.array(csv_list[1:])[:,0]\n",
    "    L = np.array(csv_list[1:])[:,1]\n",
    "```\n",
    "\n",
    "**Plot details**\n",
    "\n",
    "- Plot title\n",
    "- Axes labels with appropriate units\n",
    "- Include a legend\n",
    "- Different colors for true and engineering stress/strain curves\n",
    "- Different line types for true and engineering stress/strain curves\n",
    "\n",
    "**Force and Length Data**\n",
    "\n",
    "$\\displaystyle\\qquad \\begin{array}{ccc}\n",
    "\\text{Index} & F\\text{ (N)} & Length \\text{ (mm)}\\\\\n",
    "0 & 0 & 25.4 \\\\\n",
    "1 & 13,031 & 25.474 \\\\\n",
    "2 & 21,485 & 25.515 \\\\\n",
    "3 & 31,963 & 25.575 \\\\\n",
    "4 & 34,727 & 25.615 \\\\\n",
    "5 & 37,119 & 25.693 \\\\\n",
    "6 & 37,960 & 25.752 \\\\\n",
    "7 & 39,550 & 25.978 \\\\\n",
    "8 & 40,758 & 26.419 \\\\\n",
    "9 & 40,968 & 26.502 \\\\\n",
    "10 & 41,076 & 26.600 \\\\\n",
    "11 & 41,255 & 26.728 \\\\\n",
    "12 & 41,481 & 27.130\\\\\n",
    "13 & 41,564 & 27.441 \\end{array}$\n"
   ]
  },
  {
   "cell_type": "code",
   "execution_count": null,
   "metadata": {},
   "outputs": [],
   "source": [
    "# execute/test your script here"
   ]
  },
  {
   "cell_type": "markdown",
   "metadata": {
    "deletable": false,
    "editable": false,
    "run_control": {
     "frozen": true
    }
   },
   "source": [
    ">**Wrap it up**\n",
    ">\n",
    ">Execute the time stamp code cell below to show the time and date you finished and tested this script.\n",
    ">\n",
    ">Click on the **Save** button and then the **Close and halt** button when you are done. **Submit this notebook and your script file to *Canvas* before the due date/time to receive credit.**"
   ]
  },
  {
   "cell_type": "code",
   "execution_count": null,
   "metadata": {
    "deletable": false,
    "editable": false
   },
   "outputs": [],
   "source": [
    "from datetime import datetime\n",
    "from pytz import timezone\n",
    "print(datetime.now(timezone('US/Eastern')))"
   ]
  }
 ],
 "metadata": {
  "kernelspec": {
   "display_name": "Python 3",
   "language": "python",
   "name": "python3"
  },
  "language_info": {
   "codemirror_mode": {
    "name": "ipython",
    "version": 3
   },
   "file_extension": ".py",
   "mimetype": "text/x-python",
   "name": "python",
   "nbconvert_exporter": "python",
   "pygments_lexer": "ipython3",
   "version": "3.7.4"
  },
  "varInspector": {
   "cols": {
    "lenName": 16,
    "lenType": 16,
    "lenVar": 40
   },
   "kernels_config": {
    "python": {
     "delete_cmd_postfix": "",
     "delete_cmd_prefix": "del ",
     "library": "var_list.py",
     "varRefreshCmd": "print(var_dic_list())"
    },
    "r": {
     "delete_cmd_postfix": ") ",
     "delete_cmd_prefix": "rm(",
     "library": "var_list.r",
     "varRefreshCmd": "cat(var_dic_list()) "
    }
   },
   "types_to_exclude": [
    "module",
    "function",
    "builtin_function_or_method",
    "instance",
    "_Feature"
   ],
   "window_display": false
  }
 },
 "nbformat": 4,
 "nbformat_minor": 1
}
