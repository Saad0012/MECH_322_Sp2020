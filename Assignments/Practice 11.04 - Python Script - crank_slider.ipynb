{
 "cells": [
  {
   "cell_type": "markdown",
   "metadata": {
    "deletable": false,
    "editable": false,
    "run_control": {
     "frozen": true
    }
   },
   "source": [
    "# Python Script: `crank_slider.py`\n",
    "___"
   ]
  },
  {
   "cell_type": "code",
   "execution_count": null,
   "metadata": {},
   "outputs": [],
   "source": [
    "name = \"Your name here\"\n",
    "print(\"Name:\", name.upper())"
   ]
  },
  {
   "cell_type": "markdown",
   "metadata": {
    "deletable": false,
    "editable": false,
    "run_control": {
     "frozen": true
    }
   },
   "source": [
    "## General Script Instructions\n",
    "\n",
    "- Include comments in your script with your name and the script purpose (not just the name of the script)\n",
    "- Include nicely formatted title lines in your script that display the script name and your name before asking for any input or showing any results\n",
    "- Provide the requested results in addition to any required plot(s)\n",
    "- You must use variables (not numbers) in your calculations where variables are provided in the problem statement\n",
    "- Your script must be self-contained, meaning you need to import all external modules and define all functions needed within the script\n",
    "- **You must use *NumPy* for all calculations; no list comprehensions or looping**"
   ]
  },
  {
   "cell_type": "markdown",
   "metadata": {
    "deletable": false,
    "editable": false,
    "run_control": {
     "frozen": true
    }
   },
   "source": [
    "## `crank_slider.py`\n",
    "\n",
    "Crank-slider mechanisms are used in many engineering applications. Create a script named **`crank_slider.py`** that calculates and plots the position $x$, velocity $v$, and acceleration $a$ of the slider (piston) versus time for one revolution of a crank that turns as a constant angular velocity $\\omega$. Make three vertically stacked subplots on the same page. Set the crank angle to $\\theta = 0^{\\circ}$ when the time is $t=0$ seconds.\n",
    "\n",
    "Since the crank is turning at a constant angular velocity $\\omega$, we know the angular acceleration $\\alpha$ is zero. Use the following expressions to determine the position $x$ of the piston based upon the crank angle $\\theta$:\n",
    "\n",
    "$\\qquad\\displaystyle d_1 = r\\cos\\theta \\qquad h = r\\sin\\theta \\qquad d_2 = \\sqrt{c^2 - h^2} \\qquad x = d_1 + d_2$\n",
    "\n",
    "where $r$ is the crank radius and $c$ is the length of the coupler.\n",
    "\n",
    "The velocity $v$ of the piston ($\\text{mm}/\\text{sec}$) is \n",
    "\n",
    "$\\qquad\\displaystyle v = -r\\omega\\sin\\theta -  \\frac{r^2\\omega \\sin(2\\theta)}{2d_2}$\n",
    "\n",
    "and the acceleration $a$ of the piston ($\\text{mm}/\\text{sec}^2$) is\n",
    "\n",
    "$\\qquad\\displaystyle a = -r\\omega^2\\cos\\theta - \\frac{4r^2\\omega^2\\cos(2\\theta)d_2^2+(r^2\\omega\\sin(2\\theta))^2}{4d_2^3} $\n",
    "\n",
    "where $\\omega$ is the angular velocity of the crank in radians/second.\n",
    "\n",
    "The script should ask the user for the crank radius (in millimeters), the coupler length (in millimeters), and the crank speed in RPM (revolutions/minute). Use 100 data points from $0$ to $2\\pi$ radians to create the crank angle $\\theta$ array and then use it to calculate an array of times $t$ (in seconds) to use for plotting, where $t = \\theta/\\omega$. Also, use the angle array to calculate the position, velocity, and acceleration arrays.\n",
    "\n",
    "**Plot details**\n",
    "\n",
    "- Each of the three subplots should have $y$-axes labels with units\n",
    "- Include an $x$-axis label with units on the bottom plot only\n",
    "- Use a different color for each of the three plots\n",
    "- Use a line width of 3 for each of the three plot\n",
    "- Turn on grids for each plot\n",
    "- Include the keyword argument `sharex=True` in the `.subplots()` method when creating the initial plot figure\n",
    "- Use `plt.tight_layout()` as the last command before `plt.show()` to clean up the spacing between plots\n",
    "\n",
    "Test the script using a crank speed of $500\\text{ RPM}$, a crank radius of $120\\text{ mm}$, and a coupler length of $250\\text{ mm}$."
   ]
  },
  {
   "cell_type": "code",
   "execution_count": null,
   "metadata": {},
   "outputs": [],
   "source": [
    "# execute/test your script here"
   ]
  },
  {
   "cell_type": "markdown",
   "metadata": {
    "deletable": false,
    "editable": false,
    "run_control": {
     "frozen": true
    }
   },
   "source": [
    ">**Wrap it up**\n",
    ">\n",
    ">Execute the time stamp code cell below to show the time and date you finished and tested this script.\n",
    ">\n",
    ">Click on the **Save** button and then the **Close and halt** button when you are done. **Submit this notebook and your script file to *Canvas* before the due date/time to receive credit.**"
   ]
  },
  {
   "cell_type": "code",
   "execution_count": null,
   "metadata": {
    "deletable": false,
    "editable": false
   },
   "outputs": [],
   "source": [
    "from datetime import datetime\n",
    "from pytz import timezone\n",
    "print(datetime.now(timezone('US/Eastern')))"
   ]
  }
 ],
 "metadata": {
  "kernelspec": {
   "display_name": "Python 3",
   "language": "python",
   "name": "python3"
  },
  "language_info": {
   "codemirror_mode": {
    "name": "ipython",
    "version": 3
   },
   "file_extension": ".py",
   "mimetype": "text/x-python",
   "name": "python",
   "nbconvert_exporter": "python",
   "pygments_lexer": "ipython3",
   "version": "3.7.4"
  },
  "varInspector": {
   "cols": {
    "lenName": 16,
    "lenType": 16,
    "lenVar": 40
   },
   "kernels_config": {
    "python": {
     "delete_cmd_postfix": "",
     "delete_cmd_prefix": "del ",
     "library": "var_list.py",
     "varRefreshCmd": "print(var_dic_list())"
    },
    "r": {
     "delete_cmd_postfix": ") ",
     "delete_cmd_prefix": "rm(",
     "library": "var_list.r",
     "varRefreshCmd": "cat(var_dic_list()) "
    }
   },
   "types_to_exclude": [
    "module",
    "function",
    "builtin_function_or_method",
    "instance",
    "_Feature"
   ],
   "window_display": false
  }
 },
 "nbformat": 4,
 "nbformat_minor": 1
}
