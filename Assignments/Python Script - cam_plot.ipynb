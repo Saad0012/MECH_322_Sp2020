{
 "cells": [
  {
   "cell_type": "markdown",
   "metadata": {
    "deletable": false,
    "editable": false,
    "run_control": {
     "frozen": true
    }
   },
   "source": [
    "# Python Script: `cam_plot.py`\n",
    "___"
   ]
  },
  {
   "cell_type": "code",
   "execution_count": null,
   "metadata": {},
   "outputs": [],
   "source": [
    "name = \"Your name here\"\n",
    "print(\"Name:\", name.upper())"
   ]
  },
  {
   "cell_type": "markdown",
   "metadata": {
    "deletable": false,
    "editable": false,
    "run_control": {
     "frozen": true
    }
   },
   "source": [
    "## General Script Instructions\n",
    "\n",
    "- Include comments in your script with your name and the script purpose (not just the name of the script)\n",
    "- Include nicely formatted title lines in your script that display the script name and your name before asking for any input or showing any results\n",
    "- Provide the requested results in addition to any required plot(s)\n",
    "- You must use variables (not numbers) in your calculations where variables are provided in the problem statement\n",
    "- Your script must be self-contained, meaning you need to import all external modules and define all functions needed within the script\n",
    "- **You must use *NumPy* for all calculations; no list comprehensions or looping**"
   ]
  },
  {
   "cell_type": "markdown",
   "metadata": {
    "deletable": false,
    "editable": false,
    "run_control": {
     "frozen": true
    }
   },
   "source": [
    "## `cam_plot.py`\n",
    "\n",
    "A cam is a mechanical device that transforms rotary motion into linear motion. The shape of a disc cam is designed to produce a specified displacement profile. A displacement profile is a plot of the displacement of the follower as a function of the angle of rotation of the cam. The displacement (in inches) of a certain cam is given by the following set of equations:\n",
    "\n",
    "$$\\begin{align} \n",
    "y&=\\frac{6}{\\pi}\\left[2\\theta-0.5\\sin{(4\\theta)}\\right] &0\\leq\\theta\\leq\\pi/2\\\\\n",
    "\\\\y&=6 &\\pi/2 <\\theta\\leq2\\pi/3\\\\\n",
    "\\\\y&=3+1.5\\left[1+\\cos{\\left(1.5\\theta-\\pi\\right)}\\right] &2\\pi/3<\\theta\\leq4\\pi/3\\\\\n",
    "\\\\y&=3 &4\\pi/3 <\\theta\\leq3\\pi/2\\\\\n",
    "\\\\y&=3-6\\left(\\frac{2\\theta-3\\pi}{\\pi}\\right)^2 &3\\pi/2<\\theta\\leq 7\\pi/4\\\\\n",
    "\\\\y&=6\\left(1-\\frac{2\\theta-3\\pi}{\\pi}\\right)^2 &7\\pi/4<\\theta\\leq 2\\pi\n",
    "\\end{align}$$\n",
    "    \n",
    "Write a *Python* script named **`cam_plot.py`** that plots the displacement profile for one revolution of the cam as an $(x,y)$ plot using $(\\theta,y)$. Also plot the cam profile by creating a polar plot $(\\theta, r)$ where $r = y + 3$. Create and name an array for the angle values  with $200$ values using `np.linspace()`. Use the angle array to create a named array of $r$ values. Also use the angle array to create a named array of $y$ values using `np.select()` (as demonstrated below). Use the created **NumPy** arrays to create two plots; rectangular $\\theta,y$ and polar $\\theta,r$ (do not use subplots). \n",
    "\n",
    "**Plot details**\n",
    "\n",
    "- Add titles to both plots\n",
    "- Add axes labels with units to just the first (rectangular) plot\n",
    "- Use a line width of 3 for both plots\n",
    "- Use a different color for each plot\n",
    "    \n",
    "*Hint*: You can create side by side plots of different types that each take up half of the figure space using the following code. Change the numbers in the `.add_axes([])` commands to adjust the relative size of each plot.\n",
    "\n",
    "```python\n",
    "fig = plt.figure()\n",
    "ax1 = fig.add_axes([0, 0, 0.5, 1])\n",
    "ax2 = fig.add_axes([0.5, 0, 1, 1], polar=True)\n",
    "```\n",
    "\n",
    "Refer to the sample code shown below in order to use `np.select(condlist, choicelist)` to calculate $y$ values for various $x$ conditions without the need to use a loop and `if-elif-else` condition blocks. **You are not allowed to use loops nor `if-elif-else` statements for this problem.**"
   ]
  },
  {
   "cell_type": "code",
   "execution_count": null,
   "metadata": {},
   "outputs": [],
   "source": [
    "# sample code for using np.select() when you have multiple conditions\n",
    "# when a condition is met in condlist, the associated calculation\n",
    "# from choicelist will be used. only the first True condition will\n",
    "# be used; for example, if value of x is 5, only the second condition\n",
    "# will be evaluated because it is the first condition that is True\n",
    "\n",
    "import numpy as np\n",
    "x = np.arange(10)\n",
    "condlist = [x < 3, x < 7, x >= 7]\n",
    "choicelist = [3*x, 7*x, 10*x]\n",
    "y = np.select(condlist, choicelist)\n",
    "print(np.array([x, y]))\n",
    "print()\n",
    "\n",
    "# the above code acts like the following:\n",
    "\n",
    "x = np.arange(10)\n",
    "y = np.ones(10,dtype='int')\n",
    "for i, xi in enumerate(x):\n",
    "    if xi < 3:\n",
    "        y[i] = 3*xi\n",
    "    elif xi < 7:\n",
    "        y[i] = 7*xi\n",
    "    elif xi >= 7:\n",
    "        y[i] = 10*xi\n",
    "print(np.array([x, y]))"
   ]
  },
  {
   "cell_type": "code",
   "execution_count": null,
   "metadata": {},
   "outputs": [],
   "source": [
    "# execute/test your script here"
   ]
  },
  {
   "cell_type": "markdown",
   "metadata": {
    "deletable": false,
    "editable": false,
    "run_control": {
     "frozen": true
    }
   },
   "source": [
    ">**Wrap it up**\n",
    ">\n",
    ">Execute the time stamp code cell below to show the time and date you finished and tested this script.\n",
    ">\n",
    ">Click on the **Save** button and then the **Close and halt** button when you are done. **Submit this notebook and your script file to *Canvas* before the due date/time to receive credit.**"
   ]
  },
  {
   "cell_type": "code",
   "execution_count": null,
   "metadata": {
    "deletable": false,
    "editable": false
   },
   "outputs": [],
   "source": [
    "from datetime import datetime\n",
    "from pytz import timezone\n",
    "print(datetime.now(timezone('US/Eastern')))"
   ]
  }
 ],
 "metadata": {
  "kernelspec": {
   "display_name": "Python 3",
   "language": "python",
   "name": "python3"
  },
  "language_info": {
   "codemirror_mode": {
    "name": "ipython",
    "version": 3
   },
   "file_extension": ".py",
   "mimetype": "text/x-python",
   "name": "python",
   "nbconvert_exporter": "python",
   "pygments_lexer": "ipython3",
   "version": "3.7.4"
  },
  "varInspector": {
   "cols": {
    "lenName": 16,
    "lenType": 16,
    "lenVar": 40
   },
   "kernels_config": {
    "python": {
     "delete_cmd_postfix": "",
     "delete_cmd_prefix": "del ",
     "library": "var_list.py",
     "varRefreshCmd": "print(var_dic_list())"
    },
    "r": {
     "delete_cmd_postfix": ") ",
     "delete_cmd_prefix": "rm(",
     "library": "var_list.r",
     "varRefreshCmd": "cat(var_dic_list()) "
    }
   },
   "types_to_exclude": [
    "module",
    "function",
    "builtin_function_or_method",
    "instance",
    "_Feature"
   ],
   "window_display": false
  }
 },
 "nbformat": 4,
 "nbformat_minor": 1
}
