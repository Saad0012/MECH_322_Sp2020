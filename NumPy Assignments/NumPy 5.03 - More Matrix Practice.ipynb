{
 "cells": [
  {
   "cell_type": "markdown",
   "metadata": {
    "deletable": false,
    "editable": false,
    "run_control": {
     "frozen": true
    }
   },
   "source": [
    "# NumPy 5.03 - More Matrix Practice\n",
    "___"
   ]
  },
  {
   "cell_type": "code",
   "execution_count": null,
   "metadata": {},
   "outputs": [],
   "source": [
    "name = \"Your name here\"\n",
    "print(\"Name:\", name.upper())"
   ]
  },
  {
   "cell_type": "markdown",
   "metadata": {
    "deletable": false,
    "editable": false,
    "run_control": {
     "frozen": true
    }
   },
   "source": [
    "## Purpose:\n",
    "\n",
    "Practice using *Python's NumPy* array/matrix operations and functions on familiar problems from MECH 340 Statics and Strength of Materials."
   ]
  },
  {
   "cell_type": "markdown",
   "metadata": {
    "deletable": false,
    "editable": false,
    "run_control": {
     "frozen": true
    }
   },
   "source": [
    "**Execute the following code cell to import necessary modules.**"
   ]
  },
  {
   "cell_type": "code",
   "execution_count": null,
   "metadata": {
    "deletable": false,
    "editable": false
   },
   "outputs": [],
   "source": [
    "import numpy as np\n",
    "from numpy import linalg as la\n",
    "from tabulate import tabulate"
   ]
  },
  {
   "cell_type": "markdown",
   "metadata": {
    "deletable": false,
    "editable": false,
    "run_control": {
     "frozen": true
    }
   },
   "source": [
    "**Solving for Forces in a Truss Using Matrix Multiplication**\n",
    "\n",
    "Use the full set of equilibrium equations given for the following truss to write one coefficient (LHS) and one right-hand side array. Use *NumPy's* `la.solve()` function to solve for the reactions and the forces in each member.\n",
    "\n",
    "Since many of the elements in the coefficient array will be zeros, it may be good idea to create an array with all zeros first. Then you can use array addressing to fill in the elements that get values. Let *Python* perform **all** calculations, including the angles $\\theta_1$, $\\theta_2$, and $\\theta_3$ (see table below).\n",
    "\n",
    "| Angle |  Horizontal | Vertical |\n",
    "|:-----:|:-----------:|:--------:|\n",
    "| $\\theta_1$ | 20 | 5 |\n",
    "| $\\theta_2$ | 8 | 4 |\n",
    "| $\\theta_3$ | 6 | 1.5 |\n",
    "\n",
    "Make a list with strings that match the variables for which you are solving in the following order; \n",
    "\n",
    "$\\qquad A_x$, $A_y$, $G_x$, $F_{AB}$, $F_{AG}$, $F_{BC}$, $F_{BF}$, $F_{BG}$, $F_{CD}$, $F_{CE}$, $F_{CF}$, $F_{DE}$, $F_{EF}$, and $F_{FG}$.\n",
    "\n",
    "Use the following format for each item in this list; `\"A_x\"` and `\"F_AB\"`\n",
    "\n",
    "Use `tabulate()` with `print()` to create a table of results with the list of names in the first column and the force in the second. Include headers (with units for the second column). Round the results array to 1-decimal place **before** creating the results table.\n",
    "\n",
    "**Suggestion:** Use a piece of grid paper with numbered rows and columns to fill in the coefficient expressions before starting to create the array with *Python*.\n",
    "</div>"
   ]
  },
  {
   "cell_type": "markdown",
   "metadata": {
    "deletable": false,
    "editable": false,
    "run_control": {
     "frozen": true
    }
   },
   "source": [
    "$\\qquad \\begin{array}{llll}\n",
    "A: & -A_x+\\frac{4}{5}AB=0 && A_y-\\frac{3}{5}AB-AG=0\\\\[0.25em]\n",
    "B: & -\\frac{4}{5}AB + \\frac{4}{5}BC - BG\\cos{\\theta_2} = \\frac{3}{5}800\\text{lb} && \\frac{3}{5}AB - \\frac{3}{5}BC - BF - BG\\sin{\\theta_2} = \\frac{4}{5}800\\text{lb}\\\\[0.25em]\n",
    "C: & -\\frac{4}{5}BC + \\frac{4}{5}CD - CF\\cos{\\theta_3} = \\frac{3}{5}600\\text{lb} && \\frac{3}{5}BC - \\frac{3}{5}CD - CE - CF\\sin{\\theta_3} = \\frac{4}{5}600\\text{lb}\\\\[0.25em]\n",
    "D: & -\\frac{4}{5}CD - DE\\cos{\\theta_1} = 0 && \\frac{3}{5}CD + DE\\sin{\\theta_1} = 500\\text{lb}\\\\[0.25em]\n",
    "E: & DE\\cos{\\theta_1} - EF\\cos{\\theta_1} = 0 && CE - DE\\sin{\\theta_1} + EF\\sin{\\theta_1} = 0\\\\[0.25em]\n",
    "F: & CF\\cos{\\theta_3} + EF\\cos{\\theta_1} - FG\\cos{\\theta_1} = 0 && BF + CF\\sin{\\theta_3} - EF\\sin{\\theta_1} + FG\\sin{\\theta_1} = 0\\\\[0.25em]\n",
    "G: & G_x + BG\\cos{\\theta_2} + FG\\cos{\\theta_1} = 0 && AG + BG\\sin{\\theta_2} - FG\\sin{\\theta_1} = 0 \\end{array}$"
   ]
  },
  {
   "cell_type": "markdown",
   "metadata": {
    "deletable": false,
    "editable": false,
    "run_control": {
     "frozen": true
    }
   },
   "source": [
    "<img src=\"./truss.png\" width=\"500\"  />"
   ]
  },
  {
   "cell_type": "code",
   "execution_count": null,
   "metadata": {
    "slideshow": {
     "slide_type": "subslide"
    }
   },
   "outputs": [],
   "source": []
  },
  {
   "cell_type": "code",
   "execution_count": null,
   "metadata": {},
   "outputs": [],
   "source": []
  },
  {
   "cell_type": "code",
   "execution_count": null,
   "metadata": {},
   "outputs": [],
   "source": []
  },
  {
   "cell_type": "code",
   "execution_count": null,
   "metadata": {},
   "outputs": [],
   "source": []
  },
  {
   "cell_type": "code",
   "execution_count": null,
   "metadata": {},
   "outputs": [],
   "source": []
  },
  {
   "cell_type": "code",
   "execution_count": null,
   "metadata": {},
   "outputs": [],
   "source": []
  },
  {
   "cell_type": "markdown",
   "metadata": {
    "deletable": false,
    "editable": false,
    "run_control": {
     "frozen": true
    }
   },
   "source": [
    ">**Wrap it up**\n",
    ">\n",
    ">Execute the time stamp code cell below to show the time and date you finished and tested this script.\n",
    ">\n",
    ">Click on the **Save** button and then the **Close and halt** button when you are done. **Submit this notebook to *Canvas* before the due date/time to receive credit.**"
   ]
  },
  {
   "cell_type": "code",
   "execution_count": null,
   "metadata": {
    "deletable": false,
    "editable": false
   },
   "outputs": [],
   "source": [
    "from datetime import datetime\n",
    "from pytz import timezone\n",
    "print(datetime.now(timezone('US/Eastern')))"
   ]
  }
 ],
 "metadata": {
  "kernelspec": {
   "display_name": "Python 3",
   "language": "python",
   "name": "python3"
  },
  "language_info": {
   "codemirror_mode": {
    "name": "ipython",
    "version": 3
   },
   "file_extension": ".py",
   "mimetype": "text/x-python",
   "name": "python",
   "nbconvert_exporter": "python",
   "pygments_lexer": "ipython3",
   "version": "3.7.4"
  },
  "varInspector": {
   "cols": {
    "lenName": 16,
    "lenType": 16,
    "lenVar": 40
   },
   "kernels_config": {
    "python": {
     "delete_cmd_postfix": "",
     "delete_cmd_prefix": "del ",
     "library": "var_list.py",
     "varRefreshCmd": "print(var_dic_list())"
    },
    "r": {
     "delete_cmd_postfix": ") ",
     "delete_cmd_prefix": "rm(",
     "library": "var_list.r",
     "varRefreshCmd": "cat(var_dic_list()) "
    }
   },
   "types_to_exclude": [
    "module",
    "function",
    "builtin_function_or_method",
    "instance",
    "_Feature"
   ],
   "window_display": false
  }
 },
 "nbformat": 4,
 "nbformat_minor": 1
}
