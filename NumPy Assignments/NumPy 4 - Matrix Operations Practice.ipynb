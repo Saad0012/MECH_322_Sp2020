{
 "cells": [
  {
   "cell_type": "markdown",
   "metadata": {
    "deletable": false,
    "editable": false,
    "run_control": {
     "frozen": true
    }
   },
   "source": [
    "# NumPy 4 - Matrix Operations Practice\n",
    "___"
   ]
  },
  {
   "cell_type": "code",
   "execution_count": null,
   "metadata": {},
   "outputs": [],
   "source": [
    "name = \"Your name here\"\n",
    "print(\"Name:\", name.upper())"
   ]
  },
  {
   "cell_type": "markdown",
   "metadata": {
    "deletable": false,
    "editable": false,
    "run_control": {
     "frozen": true
    }
   },
   "source": [
    "**Execute the following code cell to import the required *NumPy* modules**"
   ]
  },
  {
   "cell_type": "code",
   "execution_count": null,
   "metadata": {},
   "outputs": [],
   "source": [
    "import numpy as np\n",
    "from numpy import linalg as la"
   ]
  },
  {
   "cell_type": "markdown",
   "metadata": {
    "deletable": false,
    "editable": false,
    "run_control": {
     "frozen": true
    }
   },
   "source": [
    "**Exercise 1**\n",
    "\n",
    "Create the arrays $v$ and $u$ using `np.array()`:\n",
    "\n",
    "$\\qquad\\displaystyle v = [15, 8, -6] \\qquad u = [3, -2, 6]$\n",
    "\n",
    "Perform each of the following operations on `v` and `u` to see what happens:\n",
    "\n",
    "1. `v * u`\n",
    "2. `v * u.reshape(3,1)`\n",
    "3. `np.dot(v, u)`"
   ]
  },
  {
   "cell_type": "code",
   "execution_count": null,
   "metadata": {},
   "outputs": [],
   "source": []
  },
  {
   "cell_type": "code",
   "execution_count": null,
   "metadata": {},
   "outputs": [],
   "source": []
  },
  {
   "cell_type": "code",
   "execution_count": null,
   "metadata": {},
   "outputs": [],
   "source": []
  },
  {
   "cell_type": "code",
   "execution_count": null,
   "metadata": {},
   "outputs": [],
   "source": []
  },
  {
   "cell_type": "code",
   "execution_count": null,
   "metadata": {},
   "outputs": [],
   "source": []
  },
  {
   "cell_type": "markdown",
   "metadata": {
    "deletable": false,
    "editable": false,
    "run_control": {
     "frozen": true
    }
   },
   "source": [
    "**Exercise 2**\n",
    "\n",
    "Two vectors (arrays) are given by:\n",
    "\n",
    "$\\qquad\\displaystyle\\textbf{u} = 5\\textbf{i} - 6\\textbf{j} + 9\\textbf{k} \\quad \\text{and} \\quad \\textbf{v} = 11\\textbf{i} + 7\\textbf{j} - 4\\textbf{k}$\n",
    "\n",
    "The dot product $\\textbf{u} \\cdot \\textbf{v}$ is defined by:\n",
    "\n",
    "$\\qquad\\displaystyle \\textbf{u}\\cdot\\textbf{v} = u_1v_1 + u_2v_2 + u_3v_3$\n",
    "\n",
    "where $u_1, u_2, u_3$ are the numeric values (with their signs) from vector $\\textbf{u}$ and $v_1, v_2, v_3$ are the numeric values (with their signs) from vector $\\textbf{v}$.\n",
    "\n",
    "Use *NumPy* operations and functions to calculate the dot product of the vectors three ways:\n",
    "\n",
    "1. Define $\\textbf{u}$ and $\\textbf{v}$ as arrays and then use array addressing (i.e. `u[0]` and `v[0]`) to access each value and calculate the dot product\n",
    "1. Write an expression that uses element-by-element math and the `np.sum()` function on vectors $\\textbf{u}$ and $\\textbf{v}$\n",
    "1. Use the `np.dot()` function"
   ]
  },
  {
   "cell_type": "code",
   "execution_count": null,
   "metadata": {},
   "outputs": [],
   "source": [
    "# define 'u'"
   ]
  },
  {
   "cell_type": "code",
   "execution_count": null,
   "metadata": {},
   "outputs": [],
   "source": [
    "# define 'v'"
   ]
  },
  {
   "cell_type": "code",
   "execution_count": null,
   "metadata": {},
   "outputs": [],
   "source": [
    "# using array addressing (indexing)"
   ]
  },
  {
   "cell_type": "code",
   "execution_count": null,
   "metadata": {},
   "outputs": [],
   "source": [
    "# element-by-element and np.sum()"
   ]
  },
  {
   "cell_type": "code",
   "execution_count": null,
   "metadata": {},
   "outputs": [],
   "source": [
    "# np.dot()"
   ]
  },
  {
   "cell_type": "markdown",
   "metadata": {
    "deletable": false,
    "editable": false,
    "run_control": {
     "frozen": true
    }
   },
   "source": [
    "**Exercise 3**\n",
    "\n",
    "The volume of a parallelpiped can be calculated using $\\textbf{r}_{OB} \\cdot(\\textbf{r}_{OA}\\times\\textbf{r}_{AC})$, where $\\textbf{r}_{OA}$ represents the vector from the vertex located at the origin $O$ to vertex $A$, $\\textbf{r}_{OB}$ represents the vector from the origin to vertex $B$, and $\\textbf{r}_{AC}$ represents the vector from vertex $A$ to vertex $C$. The symbols $\\cdot$ and $\\times$ represent vector dot and cross products (respectively), not standard multiplication.\n",
    "\n",
    "Vector $\\textbf{r}_{AC}$ can be calculated with vectors $\\textbf{r}_{OC}$ and $\\textbf{r}_{OA}$ using the expression $\\textbf{r}_{AC}=\\textbf{r}_{OC}-\\textbf{r}_{OA}$. Define vectors $\\textbf{r}_{OA}$, $\\textbf{r}_{OB}$, and $\\textbf{r}_{OC}$ using the coordinates $A=(2,5,1)$, $B=(1, 3, 6)$, and $C=(-6, 8, 2)$. Calculate $\\textbf{r}_{AC}$ using the created vectors. Determine the volume using *NumPy's* `np.dot()` and `np.cross()` functions."
   ]
  },
  {
   "cell_type": "markdown",
   "metadata": {
    "deletable": false,
    "editable": false
   },
   "source": [
    "![Parallelpiped](220px-Parallelepiped_2013-11-29.png)\n",
    "By Startswithj - Own work, CC BY-SA 3.0, https://commons.wikimedia.org/w/index.php?curid=29922624"
   ]
  },
  {
   "cell_type": "code",
   "execution_count": null,
   "metadata": {},
   "outputs": [],
   "source": []
  },
  {
   "cell_type": "markdown",
   "metadata": {
    "deletable": false,
    "editable": false,
    "run_control": {
     "frozen": true
    }
   },
   "source": [
    "**Exercise 4**\n",
    "\n",
    "The dot product can be used to determine the angle between any two vectors $\\textbf{r}_1$ and $\\textbf{r}_2$:\n",
    "\n",
    "$\\qquad\\displaystyle \\theta = \\cos^{-1}\\left(\\frac{\\textbf{r}_1\\cdot\\textbf{r}_2}{|\\textbf{r}_{1}||\\textbf{r}_{2}|}\\right) $\n",
    "\n",
    "where $|\\textbf{r}_1|=\\sqrt{\\textbf{r}_1\\cdot \\textbf{r}_1}\\,$ and likewise for $|\\textbf{r}_2|$. Keep in mind that the $\\cdot$ symbol is for dot product, not standard multiplication.\n",
    "\n",
    "Use *NumPy* math and matrix functions to find the angle (in degrees) between the two vectors $\\textbf{r}_1 = 6\\textbf{i} - 3\\textbf{j} + 2\\textbf{k}$ and $\\textbf{r}_2 = 2\\textbf{i} + 9\\textbf{j} + 10\\textbf{k}$"
   ]
  },
  {
   "cell_type": "code",
   "execution_count": null,
   "metadata": {},
   "outputs": [],
   "source": []
  },
  {
   "cell_type": "markdown",
   "metadata": {
    "deletable": false,
    "editable": false,
    "run_control": {
     "frozen": true
    }
   },
   "source": [
    "**Exercise 5**\n",
    "\n",
    "Create the $4\\times4$ array $A$ filled with random integers between $1$ and $10$ inclusive using the appropriate *NumPy* random number function. Using this array, perform the following operations, each in their own code cell. If the determinant is zero, re-execute all of the cells starting with the creation of $A$.\n",
    "\n",
    "1. Multiply $A$ by $A$\n",
    "1. Matrix multiply $A$ by $A$\n",
    "1. Matrix mulitply $A$ by the inverse of $A$\n",
    "1. Divide $A$ by $A$\n",
    "1. Calculate the determinant of $A$\n",
    "1. Calculate the inverse of $A$"
   ]
  },
  {
   "cell_type": "code",
   "execution_count": null,
   "metadata": {},
   "outputs": [],
   "source": [
    "#define A here"
   ]
  },
  {
   "cell_type": "code",
   "execution_count": null,
   "metadata": {},
   "outputs": [],
   "source": []
  },
  {
   "cell_type": "code",
   "execution_count": null,
   "metadata": {},
   "outputs": [],
   "source": []
  },
  {
   "cell_type": "code",
   "execution_count": null,
   "metadata": {},
   "outputs": [],
   "source": []
  },
  {
   "cell_type": "code",
   "execution_count": null,
   "metadata": {},
   "outputs": [],
   "source": []
  },
  {
   "cell_type": "code",
   "execution_count": null,
   "metadata": {},
   "outputs": [],
   "source": []
  },
  {
   "cell_type": "code",
   "execution_count": null,
   "metadata": {},
   "outputs": [],
   "source": []
  },
  {
   "cell_type": "markdown",
   "metadata": {
    "deletable": false,
    "editable": false,
    "run_control": {
     "frozen": true
    }
   },
   "source": [
    "**Exercise 6**\n",
    "\n",
    "Solve the following system of three linear equations using functions from *NumPy*\n",
    "\n",
    "$\\qquad\\displaystyle -4x + 3y + z = -18.2 \\\\\n",
    "\\qquad5x + 6y -2z = -48.4 \\\\\n",
    "\\qquad2x - 5y + 4.5z = 92.5 $"
   ]
  },
  {
   "cell_type": "code",
   "execution_count": null,
   "metadata": {},
   "outputs": [],
   "source": []
  },
  {
   "cell_type": "markdown",
   "metadata": {
    "deletable": false,
    "editable": false,
    "run_control": {
     "frozen": true
    }
   },
   "source": [
    "**Exercise 7**\n",
    "\n",
    "Solve the following system of five linear equations using *NumPy*\n",
    "\n",
    "$\\qquad\\displaystyle{\n",
    "2.5a - b +3c + 1.5d - 2e = 57.1 \\\\\n",
    "   3a + 4b - 2c + 2.5d - e = 27.6 \\\\\n",
    "   -4a + 3b + c - 6d + 2e = -81.2 \\\\\n",
    "   2a + 3b + c - 2.5d + 4e = -22.2 \\\\\n",
    "   a + 2b + 5c - 3d + 4e = -12.2\n",
    "   }$"
   ]
  },
  {
   "cell_type": "code",
   "execution_count": null,
   "metadata": {},
   "outputs": [],
   "source": []
  },
  {
   "cell_type": "markdown",
   "metadata": {
    "deletable": false,
    "editable": false,
    "run_control": {
     "frozen": true
    }
   },
   "source": [
    "**Exercise 8**\n",
    "\n",
    "An electrical circuit consists completely of resistors and voltage sources (power supplies). Using the mesh current method based on Kirchhoff's voltage law, the following set of equations was created:\n",
    "\n",
    "$\\qquad\\displaystyle{ -V_1 - R_1i_1 - R_3(i_1-i_3) - R_2(i_1-i_2) = 0 \\\\\n",
    "   -R_2(i_2-i_1) - R_5(i_2-i_3) - R_6(i_2-i_4) - R_4(i_2-i_5) = 0 \\\\\n",
    "   -V_2 - R_7(i_3-i_4) - R_5(i_3-i_2) - R_3(i_3-i_1) = 0 \\\\\n",
    "   V_3 - R_9i_4 - R_8(i_4-i_5) - R_6(i_4-i_2) - R_7(i_4-i_3)=0 \\\\\n",
    "   V_1 - R_4(i_5-i_2) - R_8(i_5-i_4) - R_{10}i_5 = 0  }$\n",
    "\n",
    "Solve for the current in each loop $i_1$, $i_2$, $i_3$, $i_4$, and $i_5$ using linear algebra functions from *NumPy*. You will need to re-arrange each of the above expressions such that the current $i$ terms are gathered and in the same order for each expression with known voltage terms all on the right side of the equal sign. For example, the first expression would be rewritten as:\n",
    "\n",
    "$\\qquad\\displaystyle (-R_1 - R_2 - R_3) i_1 + R_2i_2 + R_3i_3 + 0i_4 + 0i_5 = V_1$\n",
    "\n",
    "Assign the following voltages and resistances to variable names before setting up your arrays and solving for the currents.\n",
    "\n",
    "$\\qquad\\begin{array}{ccc}\n",
    "V_1 = 40\\text{ V} & V_2 = 30\\text{ V} & V_3 = 36\\text{ V} \\\\\n",
    "R_1 = 16\\,\\Omega & R_2 = 20\\,\\Omega & R_3 = 10\\,\\Omega \\\\\n",
    "R_4 = 14\\,\\Omega & R_5 = 8\\,\\Omega & R_6 = 16\\,\\Omega \\\\\n",
    "R_7 = 10\\,\\Omega & R_8 = 15\\,\\Omega & R_9 = 6\\,\\Omega \\\\\n",
    "R_{10} = 4\\,\\Omega &  & \\end{array} $\n",
    "\n",
    "You should get the following results:\n",
    "\n",
    "$\\qquad i_1=-0.74058, i_2=0.60472, i_3=-0.61613, i_4=1.53164, i_5=2.16487$"
   ]
  },
  {
   "cell_type": "code",
   "execution_count": null,
   "metadata": {
    "scrolled": true
   },
   "outputs": [],
   "source": []
  },
  {
   "cell_type": "markdown",
   "metadata": {
    "deletable": false,
    "editable": false,
    "run_control": {
     "frozen": true
    }
   },
   "source": [
    ">**Wrap it up**\n",
    ">\n",
    ">Execute the time stamp code cell below to show the time and date you finished and tested this script.\n",
    ">\n",
    ">Click on the **Save** button and then the **Close and halt** button when you are done. **Submit this notebook to *Canvas* before the due date/time to receive credit.**"
   ]
  },
  {
   "cell_type": "code",
   "execution_count": null,
   "metadata": {
    "deletable": false,
    "editable": false
   },
   "outputs": [],
   "source": [
    "from datetime import datetime\n",
    "from pytz import timezone\n",
    "print(datetime.now(timezone('US/Eastern')))"
   ]
  }
 ],
 "metadata": {
  "kernelspec": {
   "display_name": "Python 3",
   "language": "python",
   "name": "python3"
  },
  "language_info": {
   "codemirror_mode": {
    "name": "ipython",
    "version": 3
   },
   "file_extension": ".py",
   "mimetype": "text/x-python",
   "name": "python",
   "nbconvert_exporter": "python",
   "pygments_lexer": "ipython3",
   "version": "3.7.4"
  },
  "varInspector": {
   "cols": {
    "lenName": 16,
    "lenType": 16,
    "lenVar": 40
   },
   "kernels_config": {
    "python": {
     "delete_cmd_postfix": "",
     "delete_cmd_prefix": "del ",
     "library": "var_list.py",
     "varRefreshCmd": "print(var_dic_list())"
    },
    "r": {
     "delete_cmd_postfix": ") ",
     "delete_cmd_prefix": "rm(",
     "library": "var_list.r",
     "varRefreshCmd": "cat(var_dic_list()) "
    }
   },
   "types_to_exclude": [
    "module",
    "function",
    "builtin_function_or_method",
    "instance",
    "_Feature"
   ],
   "window_display": false
  }
 },
 "nbformat": 4,
 "nbformat_minor": 1
}
