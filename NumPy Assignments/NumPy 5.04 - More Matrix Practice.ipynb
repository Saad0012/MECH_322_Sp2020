{
 "cells": [
  {
   "cell_type": "markdown",
   "metadata": {
    "deletable": false,
    "editable": false,
    "run_control": {
     "frozen": true
    }
   },
   "source": [
    "# NumPy 5.04 - More Matrix Practice\n",
    "___"
   ]
  },
  {
   "cell_type": "code",
   "execution_count": null,
   "metadata": {},
   "outputs": [],
   "source": [
    "name = \"Your name here\"\n",
    "print(\"Name:\", name.upper())"
   ]
  },
  {
   "cell_type": "markdown",
   "metadata": {
    "deletable": false,
    "editable": false,
    "run_control": {
     "frozen": true
    }
   },
   "source": [
    "## Purpose:\n",
    "\n",
    "Practice using *Python's NumPy* array/matrix operations and functions on familiar problems from MECH 340 Statics and Strength of Materials."
   ]
  },
  {
   "cell_type": "markdown",
   "metadata": {
    "deletable": false,
    "editable": false,
    "run_control": {
     "frozen": true
    }
   },
   "source": [
    "**Execute the following code cell to import necessary modules.**"
   ]
  },
  {
   "cell_type": "code",
   "execution_count": null,
   "metadata": {
    "deletable": false,
    "editable": false
   },
   "outputs": [],
   "source": [
    "import numpy as np\n",
    "from numpy import linalg as la\n",
    "from tabulate import tabulate"
   ]
  },
  {
   "cell_type": "markdown",
   "metadata": {
    "deletable": false,
    "editable": false,
    "run_control": {
     "frozen": true
    }
   },
   "source": [
    "**Solving for Forces in a 2D Frame Using Matrix Multipliction**\n",
    "\n",
    "The equilibrium equations shown below result from breaking the chair (frame) into parts. Use all of the equations together to create a single left-hand side array and a single right-hand side array. Use these two arrays to solve for the reactions and forces at each joint via the `la.solve` function. Have *Python* perform **all** math calculations.\n",
    "\n",
    "Make a list with strings that match the variables for which you are solving in the following order; $A$, $B$, $C_x$, $C_y$, $D_x$, $D_y$, $F_x$, and $F_y$ like the previous problem.\n",
    "\n",
    "Use `tabulate()` and `print()` together to create a table of results with the list of names in the first column and the forces in the second. Include headers (with units for the second column). Round the results array to 2-decimal places **before** creating the results table."
   ]
  },
  {
   "cell_type": "markdown",
   "metadata": {
    "deletable": false,
    "editable": false
   },
   "source": [
    "<div class=exercise>\n",
    "\n",
    "Whole Frame:\n",
    "\n",
    "$\\hspace{15mm} A + B = 84\\text{N} + 28\\text{N}\\sin{\\theta} $\n",
    "\n",
    "$\\displaystyle\\hspace{15mm} A(0.4\\text{m}) = 84\\text{N}(0.2\\text{m}) + 28\\text{N}\\left( \\sqrt{(0.3\\text{m})^2+ (0.5\\text{m})^2} + 0.3\\text{m}\\right) - 24\\text{N}(0.5\\text{m}) $\n",
    "\n",
    "Member $FD$:\n",
    "\n",
    "$\\hspace{15mm} D_x + F_x = -24\\text{N} $\n",
    "$\\hspace{15mm} D_y + F_y = 84\\text{N}$\n",
    "$\\hspace{15mm} D_y(0.5\\text{m}) = 84\\text{N}(0.1\\text{m})$\n",
    "\n",
    "Member $HB$:\n",
    "\n",
    "$\\hspace{15mm} C_x - F_x = 28\\text{N}\\cos{\\theta}$\n",
    "$\\hspace{15mm} B + C_y - F_y = 28\\text{N}\\sin{\\theta}$\n",
    "\n",
    "$\\hspace{15mm} B(0.3\\text{m}) + C_x(0.3\\text{m})\\cos{\\theta} + C_y(0.3\\text{m})\\sin{\\theta} = -28\\text{N}(0.3\\text{m})$\n",
    "</div>"
   ]
  },
  {
   "cell_type": "markdown",
   "metadata": {
    "deletable": false,
    "editable": false
   },
   "source": [
    "<img src=\"./chair.png\" width=\"500\"  />"
   ]
  },
  {
   "cell_type": "code",
   "execution_count": null,
   "metadata": {},
   "outputs": [],
   "source": []
  },
  {
   "cell_type": "code",
   "execution_count": null,
   "metadata": {},
   "outputs": [],
   "source": []
  },
  {
   "cell_type": "code",
   "execution_count": null,
   "metadata": {},
   "outputs": [],
   "source": []
  },
  {
   "cell_type": "code",
   "execution_count": null,
   "metadata": {
    "slideshow": {
     "slide_type": "subslide"
    }
   },
   "outputs": [],
   "source": []
  },
  {
   "cell_type": "markdown",
   "metadata": {
    "deletable": false,
    "editable": false,
    "run_control": {
     "frozen": true
    }
   },
   "source": [
    ">**Wrap it up**\n",
    ">\n",
    ">Execute the time stamp code cell below to show the time and date you finished and tested this script.\n",
    ">\n",
    ">Click on the **Save** button and then the **Close and halt** button when you are done. **Submit this notebook to *Canvas* before the due date/time to receive credit.**"
   ]
  },
  {
   "cell_type": "code",
   "execution_count": null,
   "metadata": {
    "deletable": false,
    "editable": false
   },
   "outputs": [],
   "source": [
    "from datetime import datetime\n",
    "from pytz import timezone\n",
    "print(datetime.now(timezone('US/Eastern')))"
   ]
  }
 ],
 "metadata": {
  "kernelspec": {
   "display_name": "Python 3",
   "language": "python",
   "name": "python3"
  },
  "language_info": {
   "codemirror_mode": {
    "name": "ipython",
    "version": 3
   },
   "file_extension": ".py",
   "mimetype": "text/x-python",
   "name": "python",
   "nbconvert_exporter": "python",
   "pygments_lexer": "ipython3",
   "version": "3.7.5"
  },
  "varInspector": {
   "cols": {
    "lenName": 16,
    "lenType": 16,
    "lenVar": 40
   },
   "kernels_config": {
    "python": {
     "delete_cmd_postfix": "",
     "delete_cmd_prefix": "del ",
     "library": "var_list.py",
     "varRefreshCmd": "print(var_dic_list())"
    },
    "r": {
     "delete_cmd_postfix": ") ",
     "delete_cmd_prefix": "rm(",
     "library": "var_list.r",
     "varRefreshCmd": "cat(var_dic_list()) "
    }
   },
   "types_to_exclude": [
    "module",
    "function",
    "builtin_function_or_method",
    "instance",
    "_Feature"
   ],
   "window_display": false
  }
 },
 "nbformat": 4,
 "nbformat_minor": 1
}
