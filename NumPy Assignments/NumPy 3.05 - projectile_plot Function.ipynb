{
 "cells": [
  {
   "cell_type": "markdown",
   "metadata": {
    "deletable": false,
    "editable": false,
    "run_control": {
     "frozen": true
    }
   },
   "source": [
    "# NumPy 3.05 - `projectile_plot` Function\n",
    "___"
   ]
  },
  {
   "cell_type": "code",
   "execution_count": null,
   "metadata": {},
   "outputs": [],
   "source": [
    "name = \"Your name here\"\n",
    "print(\"Name:\", name.upper())"
   ]
  },
  {
   "cell_type": "markdown",
   "metadata": {
    "deletable": false,
    "editable": false,
    "run_control": {
     "frozen": true
    }
   },
   "source": [
    "## `projectile_plot(velocity, angle, values=200)`\n",
    "\n",
    "Define a function named `projectile_plot(velocity, angle, values=200)` that calculates the trajectory of a projectile. The required arguments to the function are the initial velocity and the angle in degrees at which the projectile is fired. The function also accepts an optional third argument with a default value of 200 that sets the number of plot points. The function should return a tuple with the maximum height and the horizontal distance traveled. In addition to the return values, the function should generate an $x,y$ plot of the trajectory.\n",
    "\n",
    "Your function definition must include all imports necessary for the function to work. Include a docstring in your function definition that describes the arguments and returned values. Include your name in the docstring. Do not print anything from the function; just return the specified values and create the plot.\n",
    "\n",
    "The initial velocity in the $x$ and $y$ directions, $v_{0x}$ and $v_{0y}$ can be calculated from the initial velocity $v_0$ using:\n",
    "\n",
    "$$ v_{0x}=v_0\\cos(\\theta) \\qquad \\text{and} \\qquad v_{0y}=v_0\\sin(\\theta) $$\n",
    "\n",
    "where $\\theta$ is the angle at which the projectile is fired and $v_0$ is the initial velocity. The vertical and horizontal positions $x$ and $y$ of the projectile are given by:\n",
    "\n",
    "$$ x= v_{0x}t \\qquad \\text{and} \\qquad y = v_{0y}t-\\frac{1}{2}g\\,t^2 $$\n",
    "\n",
    "where $t$ is time starting at zero when the projectile is fired. The time it takes the projectile to reach the highest point is given by: \n",
    "\n",
    "$$ t_{hmax}=\\frac{v_{0y}}{g}$$\n",
    "\n",
    "Use $g=9.81\\text{ m/s}^2$ for the acceleration due to gravity. The total time of flight is twice the time it takes to reach the highest point, $t_{total}=2t_{hmax}$.\n",
    "\n",
    "Use `np.linspace()` to create an array of time values from $0$ to $t_{total}$ where the total number of values is equal to the `values` argument. Use the array of times to calculate $x$ and $y$ values for plotting. Use the appropriate *NumPy* function to determine the maximum height of the projectile from the array of $y$ values.\n",
    "\n",
    "**Plot details**\n",
    "\n",
    "- The title \"Projectile Trajectory\"\n",
    "- Axes labels for \"Distance\" and \"Height\" with proper units\n",
    "- Line width of 3\n",
    "- Line color of red\n",
    "- Add a grid to the plot\n",
    "\n",
    "Test the function using an initial velocity of $230\\text{ m/s}$ at an angle of $39^{\\circ}$."
   ]
  },
  {
   "cell_type": "code",
   "execution_count": null,
   "metadata": {},
   "outputs": [],
   "source": [
    "# write your function definition here"
   ]
  },
  {
   "cell_type": "code",
   "execution_count": null,
   "metadata": {},
   "outputs": [],
   "source": [
    "# test your function here"
   ]
  },
  {
   "cell_type": "markdown",
   "metadata": {
    "deletable": false,
    "editable": false,
    "run_control": {
     "frozen": true
    }
   },
   "source": [
    ">**Wrap it up**\n",
    ">\n",
    ">Execute the time stamp code cell below to show the time and date you finished and tested this script.\n",
    ">\n",
    ">Click on the **Save** button and then the **Close and halt** button when you are done. **Submit this notebook to *Canvas* before the due date/time to receive credit.**"
   ]
  },
  {
   "cell_type": "code",
   "execution_count": null,
   "metadata": {
    "deletable": false,
    "editable": false
   },
   "outputs": [],
   "source": [
    "from datetime import datetime\n",
    "from pytz import timezone\n",
    "print(datetime.now(timezone('US/Eastern')))"
   ]
  }
 ],
 "metadata": {
  "kernelspec": {
   "display_name": "Python 3",
   "language": "python",
   "name": "python3"
  },
  "language_info": {
   "codemirror_mode": {
    "name": "ipython",
    "version": 3
   },
   "file_extension": ".py",
   "mimetype": "text/x-python",
   "name": "python",
   "nbconvert_exporter": "python",
   "pygments_lexer": "ipython3",
   "version": "3.7.4"
  },
  "varInspector": {
   "cols": {
    "lenName": 16,
    "lenType": 16,
    "lenVar": 40
   },
   "kernels_config": {
    "python": {
     "delete_cmd_postfix": "",
     "delete_cmd_prefix": "del ",
     "library": "var_list.py",
     "varRefreshCmd": "print(var_dic_list())"
    },
    "r": {
     "delete_cmd_postfix": ") ",
     "delete_cmd_prefix": "rm(",
     "library": "var_list.r",
     "varRefreshCmd": "cat(var_dic_list()) "
    }
   },
   "types_to_exclude": [
    "module",
    "function",
    "builtin_function_or_method",
    "instance",
    "_Feature"
   ],
   "window_display": false
  }
 },
 "nbformat": 4,
 "nbformat_minor": 1
}
