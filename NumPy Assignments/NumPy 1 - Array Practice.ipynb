{
 "cells": [
  {
   "cell_type": "markdown",
   "metadata": {
    "deletable": false,
    "editable": false,
    "run_control": {
     "frozen": true
    }
   },
   "source": [
    "# NumPy 1 - Array Practice\n",
    "___"
   ]
  },
  {
   "cell_type": "code",
   "execution_count": null,
   "metadata": {},
   "outputs": [],
   "source": [
    "name = \"Your name here\"\n",
    "print(\"Name:\", name.upper())"
   ]
  },
  {
   "cell_type": "markdown",
   "metadata": {
    "deletable": false,
    "editable": false,
    "run_control": {
     "frozen": true
    }
   },
   "source": [
    "**Use *NumPy* versions of math operations where available.** For example, use `np.tan(np.radians(85))` instead of `math.tan(math.radians(85))`. Note that *NumPy* does not have a factorial function so you will need to import it from the math module."
   ]
  },
  {
   "cell_type": "markdown",
   "metadata": {
    "deletable": false,
    "editable": false,
    "run_control": {
     "frozen": true
    }
   },
   "source": [
    "**Execute the following cell to import *NumPy* and change display/print settings for *NumPy* arrays**"
   ]
  },
  {
   "cell_type": "code",
   "execution_count": null,
   "metadata": {},
   "outputs": [],
   "source": [
    "import numpy as np\n",
    "import math\n",
    "np.set_printoptions(precision=5, suppress=True)"
   ]
  },
  {
   "cell_type": "markdown",
   "metadata": {
    "deletable": false,
    "editable": false,
    "run_control": {
     "frozen": true
    }
   },
   "source": [
    "**Exercise 1**\n",
    "\n",
    "Create an array with the following elements: $ 8, 10/4, 12\\times1.4, 51, \\tan85^{\\circ}, \\sqrt{26}, 0.15$\n",
    "    \n",
    "```python\n",
    "array([ 8.     ,  2.5    , 16.8    , 51.     , 11.43005,  5.09902, 0.15   ])\n",
    "```"
   ]
  },
  {
   "cell_type": "code",
   "execution_count": null,
   "metadata": {},
   "outputs": [],
   "source": []
  },
  {
   "cell_type": "markdown",
   "metadata": {
    "deletable": false,
    "editable": false,
    "run_control": {
     "frozen": true
    }
   },
   "source": [
    "**Exercise 2**\n",
    "\n",
    "Create an array with the following elements: $\\displaystyle \\sqrt{15}\\times10^3, \\frac{25}{14-6^2}, \\ln{(35)}/0.4^3, \\frac{\\sin{65^{\\circ}}}{\\cos{80^{\\circ}}}, 129, \\cos^2{(\\pi/20)}$\n",
    "\n",
    "```python\n",
    "array([3872.98335,   -1.13636,   55.55231,    5.21922,  129.     , 0.97553])\n",
    "```"
   ]
  },
  {
   "cell_type": "code",
   "execution_count": null,
   "metadata": {},
   "outputs": [],
   "source": []
  },
  {
   "cell_type": "markdown",
   "metadata": {
    "deletable": false,
    "editable": false,
    "run_control": {
     "frozen": true
    }
   },
   "source": [
    "**Exercise 3**\n",
    "\n",
    "Create an array that has the following elements: $\\displaystyle 25.5, \\frac{14\\tan{58^{\\circ}}}{(2.1^2 + 11)}, 6!, 2.7^4, 0.0375, \\pi/5$\n",
    "\n",
    "```python\n",
    "array([ 25.5    ,   1.45391, 720.     ,  53.1441 ,   0.0375 ,   0.62832])\n",
    "```"
   ]
  },
  {
   "cell_type": "code",
   "execution_count": null,
   "metadata": {},
   "outputs": [],
   "source": []
  },
  {
   "cell_type": "markdown",
   "metadata": {
    "deletable": false,
    "editable": false,
    "run_control": {
     "frozen": true
    }
   },
   "source": [
    "**Exercise 4**\n",
    "\n",
    "Create an array that has the following elements: $\\displaystyle \\frac{32}{3.2^2}, \\sin^2{35^{\\circ}}, 6.1, \\ln(29^2), 0.00552, \\ln^2{29}, 133 $\n",
    "\n",
    "```python\n",
    "array([  3.125  ,   0.32899,   6.1    ,   6.73459,   0.00552,  11.33868, 133.     ])\n",
    "```"
   ]
  },
  {
   "cell_type": "code",
   "execution_count": null,
   "metadata": {},
   "outputs": [],
   "source": []
  },
  {
   "cell_type": "markdown",
   "metadata": {
    "deletable": false,
    "editable": false,
    "run_control": {
     "frozen": true
    }
   },
   "source": [
    "**Exercise 5**\n",
    "\n",
    "Define the variables $x=0.85$, $y=12.5$, and then use them to create an array with the following elements: $y, y^x, \\ln(y/x), x\\times y, x+y$\n",
    "\n",
    "```python\n",
    "array([12.5    , 10.625  ,  2.68825, 10.625  , 13.35   ])\n",
    "```"
   ]
  },
  {
   "cell_type": "code",
   "execution_count": null,
   "metadata": {},
   "outputs": [],
   "source": []
  },
  {
   "cell_type": "markdown",
   "metadata": {
    "deletable": false,
    "editable": false,
    "run_control": {
     "frozen": true
    }
   },
   "source": [
    "**Exercise 6**\n",
    "\n",
    "Define the variables $a=3.5$, $b=-6.4$, and then use them to create an array with the following elements: $a, a^2, a/b, a\\cdot b, \\sqrt{a}$\n",
    "\n",
    "```python\n",
    "array([  3.5    ,  12.25   ,  -0.54688, -22.4    ,   1.87083])\n",
    "```"
   ]
  },
  {
   "cell_type": "code",
   "execution_count": null,
   "metadata": {},
   "outputs": [],
   "source": []
  },
  {
   "cell_type": "markdown",
   "metadata": {
    "deletable": false,
    "editable": false,
    "run_control": {
     "frozen": true
    }
   },
   "source": [
    "**Note:** Use `np.arange()` or `np.linspace()` for exercises 7 through 10"
   ]
  },
  {
   "cell_type": "markdown",
   "metadata": {
    "deletable": false,
    "editable": false,
    "run_control": {
     "frozen": true
    }
   },
   "source": [
    "**Exercise 7**\n",
    "    \n",
    "Create an array in which the first element is $1$ and the last element is $43$ with an increment of $6$, i.e. $(1, 7, 13, \\ldots , 43)$ without manually typing each value."
   ]
  },
  {
   "cell_type": "code",
   "execution_count": null,
   "metadata": {},
   "outputs": [],
   "source": []
  },
  {
   "cell_type": "markdown",
   "metadata": {
    "deletable": false,
    "editable": false,
    "run_control": {
     "frozen": true
    }
   },
   "source": [
    "**Exercise 8**\n",
    "\n",
    "Create an array with $11$ equally spaced elements in which the first element is $96$ and the last element is $2$ without manually typing each value.\n",
    "\n",
    "```python\n",
    "array([96. , 86.6, 77.2, 67.8, 58.4, 49. , 39.6, 30.2, 20.8, 11.4,  2. ])\n",
    "```"
   ]
  },
  {
   "cell_type": "code",
   "execution_count": null,
   "metadata": {},
   "outputs": [],
   "source": []
  },
  {
   "cell_type": "markdown",
   "metadata": {
    "deletable": false,
    "editable": false,
    "run_control": {
     "frozen": true
    }
   },
   "source": [
    "**Exercise 9**\n",
    "\n",
    "Create an array in which the first element is $26$, the elements decrease with an increment of $-3.6$, and the last element is $-10$ without typing each value.\n",
    "\n",
    "```python\n",
    "array([ 26. ,  22.4,  18.8,  15.2,  11.6,   8. ,   4.4,   0.8,  -2.8,\n",
    "        -6.4, -10. ])\n",
    "```"
   ]
  },
  {
   "cell_type": "code",
   "execution_count": null,
   "metadata": {},
   "outputs": [],
   "source": []
  },
  {
   "cell_type": "markdown",
   "metadata": {
    "deletable": false,
    "editable": false,
    "run_control": {
     "frozen": true
    }
   },
   "source": [
    "**Exercise 10**\n",
    "\n",
    "Create an array with $9$ equally spaced elements in which the first element is $-34$ and the last element is $-7$ without manually typing each value.\n",
    "\n",
    "```python\n",
    "array([-34.   , -30.625, -27.25 , -23.875, -20.5  , -17.125, -13.75 ,\n",
    "       -10.375,  -7.   ])\n",
    "```"
   ]
  },
  {
   "cell_type": "code",
   "execution_count": null,
   "metadata": {},
   "outputs": [],
   "source": []
  },
  {
   "cell_type": "markdown",
   "metadata": {
    "deletable": false,
    "editable": false,
    "run_control": {
     "frozen": true
    }
   },
   "source": [
    "**Exercise 11**\n",
    "\n",
    "Use the `np.arange()` and `np.append()` functions together in one expression to create an array named `b` such that `b = [0, 2, 4, 6, 8, 10, 12, 9, 6, 3, 0]`. Print `b` after creation."
   ]
  },
  {
   "cell_type": "code",
   "execution_count": null,
   "metadata": {},
   "outputs": [],
   "source": []
  },
  {
   "cell_type": "markdown",
   "metadata": {
    "deletable": false,
    "editable": false,
    "run_control": {
     "frozen": true
    }
   },
   "source": [
    "**Exercise 12**\n",
    "\n",
    "Create the following 2D array `A` by using the `np.linspace()` and `np.arange()` functions to fill the values. Print `A` after creation.\n",
    "\n",
    "$\\qquad\\displaystyle A = \\left[\\begin{array}{ccccccc} 130 & 110 & 90 & 70 & 50 & 30 & 10 \\\\\n",
    "1.0 & 2.833\\ldots & 4.666\\ldots & 6.5 & 8.333\\ldots & 10.166\\ldots & 12.0 \\\\\n",
    "12 & 22 & 32 & 42 & 52 & 62 & 72\\end{array} \\right]$"
   ]
  },
  {
   "cell_type": "code",
   "execution_count": null,
   "metadata": {},
   "outputs": [],
   "source": []
  },
  {
   "cell_type": "markdown",
   "metadata": {
    "deletable": false,
    "editable": false,
    "run_control": {
     "frozen": true
    }
   },
   "source": [
    "**Exercise 13**\n",
    "\n",
    "Create three arrays: $a = [3, -1, 5, 11, -4, 2]$, $b = [7, -9, 2, 13, 1, -2]$, and $c = [-2, 4, -7, 8, 0, 9]$\n",
    "\n",
    "By slicing the three arrays, create a $3\\times4$ two-dimensional array such that the first, second, and third rows consist of the last four elements of the arrays $a$, $b$, and $c$ respectively.\n",
    "\n",
    "```python\n",
    "array([[ 5, 11, -4,  2],\n",
    "       [ 2, 13,  1, -2],\n",
    "       [-7,  8,  0,  9]])\n",
    "```"
   ]
  },
  {
   "cell_type": "code",
   "execution_count": null,
   "metadata": {},
   "outputs": [],
   "source": []
  },
  {
   "cell_type": "code",
   "execution_count": null,
   "metadata": {},
   "outputs": [],
   "source": []
  },
  {
   "cell_type": "markdown",
   "metadata": {
    "deletable": false,
    "editable": false,
    "run_control": {
     "frozen": true
    }
   },
   "source": [
    "**Exercise 14**\n",
    "\n",
    "Using the arrays from **13**, create a $6\\times3$ two-dimensional array such that the first, second, and third columns are the arrays $b$, $c$, and $a$ respectively.\n",
    "    \n",
    "*Hint: the `.T` method helps.*\n",
    "\n",
    "```python\n",
    "array([[ 7, -2,  3],\n",
    "       [-9,  4, -1],\n",
    "       [ 2, -7,  5],\n",
    "       [13,  8, 11],\n",
    "       [ 1,  0, -4],\n",
    "       [-2,  9,  2]])\n",
    "```"
   ]
  },
  {
   "cell_type": "code",
   "execution_count": null,
   "metadata": {},
   "outputs": [],
   "source": []
  },
  {
   "cell_type": "markdown",
   "metadata": {
    "deletable": false,
    "editable": false,
    "run_control": {
     "frozen": true
    }
   },
   "source": [
    "**Exercise 15**\n",
    "\n",
    "Create the following 2D array by first using `np.arange()` and/or `np.linspace()` to create a 1D array with all of the values present then change its shape with the `.reshape()` method.\n",
    "\n",
    "$\\qquad\\displaystyle A = \\left[ \\begin{array}{cccccc} \n",
    "36 & 34 & 32 & 30 & 28 & 26 \\\\\n",
    "24 & 22 & 20 & 18 & 16 & 14 \\\\\n",
    "12 & 10 & 8 & 6 & 4 & 2 \\end{array}\\right] $\n",
    "\n",
    "Then do each of the following in their own code cell:\n",
    "- Create a six-element array that contains the elements of the second row of $A$\n",
    "    ```python\n",
    "    array([24, 22, 20, 18, 16, 14])\n",
    "    ```\n",
    "- Create a three-element array that contains the elements of the sixth column of $A$\n",
    "    ```python\n",
    "    array([26, 14,  2])\n",
    "    ```\n",
    "- Create a five-element array that contains the first two elements of the third row and the last three elements of the first row of $A$\n",
    "    ```python\n",
    "    array([12, 10, 30, 28, 26])\n",
    "    ```\n",
    "</div>"
   ]
  },
  {
   "cell_type": "code",
   "execution_count": null,
   "metadata": {},
   "outputs": [],
   "source": []
  },
  {
   "cell_type": "code",
   "execution_count": null,
   "metadata": {},
   "outputs": [],
   "source": []
  },
  {
   "cell_type": "code",
   "execution_count": null,
   "metadata": {},
   "outputs": [],
   "source": []
  },
  {
   "cell_type": "code",
   "execution_count": null,
   "metadata": {},
   "outputs": [],
   "source": []
  },
  {
   "cell_type": "markdown",
   "metadata": {
    "deletable": false,
    "editable": false,
    "run_control": {
     "frozen": true
    }
   },
   "source": [
    "**Exercise 16**\n",
    "\n",
    "Create the following 2D array by using *NumPy* special commands and array addressing, not by manually typing each value. You may use more than one command, just place them all in the same code cell. Try to add $8, 7, 6$ to the array using array addressing with a single slice.\n",
    "\n",
    "$\\qquad\\displaystyle \\left[\\begin{array}{ccccc}\n",
    "0 & 0 & 0 & 0 & 8 \\\\\n",
    "0 & 0 & 0 & 0 & 7 \\\\\n",
    "0 & 0 & 0 & 0 & 6 \\end{array} \\right]$"
   ]
  },
  {
   "cell_type": "code",
   "execution_count": null,
   "metadata": {},
   "outputs": [],
   "source": []
  },
  {
   "cell_type": "markdown",
   "metadata": {
    "deletable": false,
    "editable": false,
    "run_control": {
     "frozen": true
    }
   },
   "source": [
    "**Exercise 17**\n",
    "\n",
    "Use a single expression to create a six element 1D array such that the first value is $1.1$ and the last value is $6.6$ and all of the others are zero. Do not directly type the zeros; use NumPy functions or methods.\n",
    "\n",
    "*Hint: this may be a good place to try out* `np.insert()` *or* `np.hstack()`.\n",
    "\n",
    "```python\n",
    "array([1.1, 0. , 0. , 0. , 0. , 6.6])\n",
    "```"
   ]
  },
  {
   "cell_type": "code",
   "execution_count": null,
   "metadata": {},
   "outputs": [],
   "source": []
  },
  {
   "cell_type": "markdown",
   "metadata": {
    "deletable": false,
    "editable": false,
    "run_control": {
     "frozen": true
    }
   },
   "source": [
    ">**Wrap it up**\n",
    ">\n",
    ">Execute the time stamp code cell below to show the time and date you finished and tested this script.\n",
    ">\n",
    ">Click on the **Save** button and then the **Close and halt** button when you are done. **Submit this notebook to *Canvas* before the due date/time to receive credit.**"
   ]
  },
  {
   "cell_type": "code",
   "execution_count": null,
   "metadata": {
    "deletable": false,
    "editable": false
   },
   "outputs": [],
   "source": [
    "from datetime import datetime\n",
    "from pytz import timezone\n",
    "print(datetime.now(timezone('US/Eastern')))"
   ]
  }
 ],
 "metadata": {
  "kernelspec": {
   "display_name": "Python 3",
   "language": "python",
   "name": "python3"
  },
  "language_info": {
   "codemirror_mode": {
    "name": "ipython",
    "version": 3
   },
   "file_extension": ".py",
   "mimetype": "text/x-python",
   "name": "python",
   "nbconvert_exporter": "python",
   "pygments_lexer": "ipython3",
   "version": "3.7.4"
  },
  "varInspector": {
   "cols": {
    "lenName": 16,
    "lenType": 16,
    "lenVar": 40
   },
   "kernels_config": {
    "python": {
     "delete_cmd_postfix": "",
     "delete_cmd_prefix": "del ",
     "library": "var_list.py",
     "varRefreshCmd": "print(var_dic_list())"
    },
    "r": {
     "delete_cmd_postfix": ") ",
     "delete_cmd_prefix": "rm(",
     "library": "var_list.r",
     "varRefreshCmd": "cat(var_dic_list()) "
    }
   },
   "types_to_exclude": [
    "module",
    "function",
    "builtin_function_or_method",
    "instance",
    "_Feature"
   ],
   "window_display": false
  }
 },
 "nbformat": 4,
 "nbformat_minor": 1
}
