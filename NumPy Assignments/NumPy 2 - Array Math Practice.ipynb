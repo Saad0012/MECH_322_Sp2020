{
 "cells": [
  {
   "cell_type": "markdown",
   "metadata": {
    "deletable": false,
    "editable": false,
    "run_control": {
     "frozen": true
    }
   },
   "source": [
    "# NumPy 2 - Array Math Practice\n",
    "___"
   ]
  },
  {
   "cell_type": "code",
   "execution_count": null,
   "metadata": {},
   "outputs": [],
   "source": [
    "name = \"Your name here\"\n",
    "print(\"Name:\", name.upper())"
   ]
  },
  {
   "cell_type": "markdown",
   "metadata": {
    "deletable": false,
    "editable": false,
    "run_control": {
     "frozen": true
    }
   },
   "source": [
    "**Execute the following code cell to be able to use *NumPy* commands and `tabulate` in the rest of the assignment.**"
   ]
  },
  {
   "cell_type": "code",
   "execution_count": null,
   "metadata": {},
   "outputs": [],
   "source": [
    "import numpy as np\n",
    "from tabulate import tabulate"
   ]
  },
  {
   "cell_type": "markdown",
   "metadata": {
    "deletable": false,
    "editable": false,
    "run_control": {
     "frozen": true
    }
   },
   "source": [
    "**Exercise 1**\n",
    "\n",
    "For the function $y = x^2 - e^{0.5x} + x$, calculate the values of $y$ for $x = [-3, -2, -1, 0, 1, 2, 3]$. Use `np.arange()` to create $x$."
   ]
  },
  {
   "cell_type": "code",
   "execution_count": null,
   "metadata": {},
   "outputs": [],
   "source": []
  },
  {
   "cell_type": "markdown",
   "metadata": {
    "deletable": false,
    "editable": false,
    "run_control": {
     "frozen": true
    }
   },
   "source": [
    "**Exercise 2**\n",
    "\n",
    "For the function $\\displaystyle y = \\frac{(x+5)^3}{x^2}$, calculate the values of $y$ where $x$ is an array of all integers from $1$ to $6$ inclusive. Use `np.arange()` to create $x$."
   ]
  },
  {
   "cell_type": "code",
   "execution_count": null,
   "metadata": {},
   "outputs": [],
   "source": []
  },
  {
   "cell_type": "markdown",
   "metadata": {
    "deletable": false,
    "editable": false,
    "run_control": {
     "frozen": true
    }
   },
   "source": [
    "**Exercise 3**\n",
    "\n",
    "For the function $\\displaystyle y = \\frac{(x+7)^4}{(x+1)\\sqrt{x}}$, calculate the values of $y$ where $x$ is an array of $6$ equally spaced values from $1.5$ to $6.5$ inclusive. Use `np.linspace()` to create $x$."
   ]
  },
  {
   "cell_type": "code",
   "execution_count": null,
   "metadata": {},
   "outputs": [],
   "source": []
  },
  {
   "cell_type": "markdown",
   "metadata": {
    "deletable": false,
    "editable": false,
    "run_control": {
     "frozen": true
    }
   },
   "source": [
    "**Exercise 4**\n",
    "\n",
    "For the function $\\displaystyle y = \\frac{2\\sin{x}+\\cos^2{x}}{\\sin^2{x}}$, calculate the values of $y$ for $x = [20^{\\circ}, 30^{\\circ}, 40^{\\circ}, 50^{\\circ}, 60^{\\circ}, 70^{\\circ}]$. Use `np.arange()` to create $x$."
   ]
  },
  {
   "cell_type": "code",
   "execution_count": null,
   "metadata": {},
   "outputs": [],
   "source": []
  },
  {
   "cell_type": "markdown",
   "metadata": {
    "deletable": false,
    "editable": false,
    "run_control": {
     "frozen": true
    }
   },
   "source": [
    "**Exercise 5**\n",
    "\n",
    "The radius $r$ of a sphere can be calculated from its surface area $s$ by:\n",
    "\n",
    "$\\qquad\\displaystyle r = \\frac{\\sqrt{s/\\pi}}{2}$\n",
    "\n",
    "The volume $V$ is given by:\n",
    "\n",
    "$\\qquad\\displaystyle V = \\frac{4\\pi r^3}{3}$\n",
    "\n",
    "Determine the volume of spheres with surface areas of $50, 100, 150, 200, 250, 300\\text{ ft}^2$. Use `tabulate` to display the results in a two-column table with headers (and units) where values of $s$ and $V$ are displayed in the first and second columns, respectively."
   ]
  },
  {
   "cell_type": "code",
   "execution_count": null,
   "metadata": {},
   "outputs": [],
   "source": []
  },
  {
   "cell_type": "markdown",
   "metadata": {
    "deletable": false,
    "editable": false,
    "run_control": {
     "frozen": true
    }
   },
   "source": [
    "**Exercise 6**\n",
    "\n",
    "The length $|\\textbf{u}|$ (magnitude) of a vector $\\textbf{u} = x\\textbf{i} + y\\textbf{j} + z\\textbf{k}$ is given by $|\\textbf{u}| = \\sqrt{x^2+y^2+z^2}$. Given a vector $\\textbf{u} = 23.5\\textbf{i}-17\\textbf{j}+6\\textbf{k}$, determine its length in the following two ways:\n",
    "1. Define the vector as a 3-item array $[x,y,z]$ and then write a mathematical expression that uses the components of the vector, i.e. `u[0]`, to calculate the length.\n",
    "1. Determine the length by writing a single expression that uses element-by-element operations along with the `np.sum()` and `np.sqrt()` functions."
   ]
  },
  {
   "cell_type": "code",
   "execution_count": null,
   "metadata": {},
   "outputs": [],
   "source": []
  },
  {
   "cell_type": "code",
   "execution_count": null,
   "metadata": {},
   "outputs": [],
   "source": []
  },
  {
   "cell_type": "markdown",
   "metadata": {
    "deletable": false,
    "editable": false,
    "run_control": {
     "frozen": true
    }
   },
   "source": [
    "**Exercise 7**\n",
    "\n",
    "A vector $\\textbf{w}_L$ of length $L$ that points in the direction of a vector $\\textbf{u} = x\\textbf{i} + y\\textbf{j} + z\\textbf{k}$ can be calculated using $\\textbf{w}_L = L\\textbf{u}_n$ (multiplying a unit vector in the direction of $\\textbf{u}$ by length $L$). The unit vector $\\textbf{u}_n$ in the direction of the vector $\\textbf{u}$ is given by \n",
    "\n",
    "$\\qquad\\displaystyle \\textbf{u}_n = \\frac{x\\textbf{i} + y\\textbf{j} + z\\textbf{k}}{\\sqrt{x^2+y^2+z^2}}$. \n",
    "\n",
    "Determine the $x,y,z$ values of a vector of length $L=18$ that lies in the same direction as the vector $\\textbf{u} = 7\\textbf{i} - 4\\textbf{j} -11\\textbf{k}$. First assign the numeric value to `L` and create an array with the $x,y,z$ components of `u`, then use a single expression to calculate `w_L`. Your results should be in the form of an array."
   ]
  },
  {
   "cell_type": "code",
   "execution_count": null,
   "metadata": {},
   "outputs": [],
   "source": []
  },
  {
   "cell_type": "markdown",
   "metadata": {
    "deletable": false,
    "editable": false,
    "run_control": {
     "frozen": true
    }
   },
   "source": [
    "**Exercise 8**\n",
    "\n",
    "Define the array $v = [2, 3, 4, 5, 6]$ using `np.arange()`. Then use the array and mathematical expressions to create the following arrays:\n",
    "1. $[\\,4, 6, 8, 10, 12\\,]\\\\[2mm]$\n",
    "\n",
    "1. $[\\,8, 27, 64, 125, 216\\,]\\\\[2mm]$\n",
    "\n",
    "1. $[\\,2^2, 3^3, 4^4, 5^5, 6^6\\,]\\\\[2mm]$\n",
    "\n",
    "1. $[\\,1.0, 1.5, 2.0, 2.5, 3.0\\,]\\\\[2mm]$"
   ]
  },
  {
   "cell_type": "code",
   "execution_count": null,
   "metadata": {},
   "outputs": [],
   "source": []
  },
  {
   "cell_type": "code",
   "execution_count": null,
   "metadata": {},
   "outputs": [],
   "source": []
  },
  {
   "cell_type": "code",
   "execution_count": null,
   "metadata": {},
   "outputs": [],
   "source": []
  },
  {
   "cell_type": "code",
   "execution_count": null,
   "metadata": {},
   "outputs": [],
   "source": []
  },
  {
   "cell_type": "markdown",
   "metadata": {
    "deletable": false,
    "editable": false,
    "run_control": {
     "frozen": true
    }
   },
   "source": [
    "**Exercise 9**\n",
    "\n",
    "Define the array $v = [8, 6, 4, 2]$ using `np.arange()`. Then use the array and mathematical expressions to create the following arrays:\n",
    "1. $[\\,1, 1, 1, 1 \\,]\\\\[0.1cm]$\n",
    "\n",
    "1. $\\displaystyle \\left[\\,\\frac{1}{8^2}, \\frac{1}{6^2}, \\frac{1}{4^2}, \\frac{1}{2^2}\\,\\right]\\\\[0.25cm]$\n",
    "\n",
    "1. $\\displaystyle \\left[\\,\\frac{1}{\\sqrt{8}}, \\frac{1}{\\sqrt{6}}, \\frac{1}{\\sqrt{4}}, \\frac{1}{\\sqrt{2}}\\,\\right]\\\\[0.25cm]$\n",
    "\n",
    "1. $[\\,3, 1, -1, -3 \\,]$"
   ]
  },
  {
   "cell_type": "code",
   "execution_count": null,
   "metadata": {},
   "outputs": [],
   "source": []
  },
  {
   "cell_type": "code",
   "execution_count": null,
   "metadata": {},
   "outputs": [],
   "source": []
  },
  {
   "cell_type": "code",
   "execution_count": null,
   "metadata": {},
   "outputs": [],
   "source": []
  },
  {
   "cell_type": "code",
   "execution_count": null,
   "metadata": {},
   "outputs": [],
   "source": []
  },
  {
   "cell_type": "markdown",
   "metadata": {
    "deletable": false,
    "editable": false,
    "run_control": {
     "frozen": true
    }
   },
   "source": [
    "**Exercise 10**\n",
    "\n",
    "Define the scalars $r=1.6\\times10^3$ and $s=14.2$ and the arrays $t = [1, 2, 3, 4, 5]$, $x = [0, 2, 4, 6, 8]$, and $y = [3, 6, 9, 12, 15]$. Create the arrays with either `np.arange()` or `np.linspace()` instead of manually typing the values. Use these variables to calculate the following expressions:\n",
    "\n",
    "1. $\\displaystyle G = x\\,t + \\frac{r}{s^2}(y^2 -x)t\\\\[0.5cm]$\n",
    "\n",
    "2. $\\displaystyle R = \\frac{r(-x\\,t+y\\,t^2)}{15}-s^2(y-0.5x^2)t$"
   ]
  },
  {
   "cell_type": "code",
   "execution_count": null,
   "metadata": {},
   "outputs": [],
   "source": []
  },
  {
   "cell_type": "code",
   "execution_count": null,
   "metadata": {},
   "outputs": [],
   "source": []
  },
  {
   "cell_type": "code",
   "execution_count": null,
   "metadata": {},
   "outputs": [],
   "source": []
  },
  {
   "cell_type": "markdown",
   "metadata": {
    "deletable": false,
    "editable": false,
    "run_control": {
     "frozen": true
    }
   },
   "source": [
    "**Exercise 11**\n",
    "\n",
    "Use *NumPy* to show that the sum of the infinite series $\\displaystyle \\sum_{n=0}^{\\infty}{\\frac{2^n}{n!}}$ converges to $e^2$. Do this by computing the sum using the following maximum values of $n$:\n",
    "1. $5$\n",
    "1. $10$\n",
    "1. $50$\n",
    "\n",
    "For each part create an array $n$ in which the first element is $0$, the increment is $1$, and the last element is $5$, $10$, or $50$. Then use element by element calculations to create an array in which the elements are $\\displaystyle \\frac{2^n}{n!}$. Finally, use the `np.sum()` function to sum the series. Compare the resultant summation values to $e^2$ by finding the absolute value of the difference and using formatted printing to display the result with 16-decimal places.\n",
    "\n",
    "Note: For some reason *NumPy's* factorial function does not work with arrays. *SciPy*, which is built on *NumPy*, does have an array friendly factorial function in the `scipy.special` module. You will need to import the factorial function from this module in order to access it. Execute the following code cell to import the required factorial function."
   ]
  },
  {
   "cell_type": "code",
   "execution_count": null,
   "metadata": {},
   "outputs": [],
   "source": [
    "from scipy.special import factorial"
   ]
  },
  {
   "cell_type": "code",
   "execution_count": null,
   "metadata": {},
   "outputs": [],
   "source": []
  },
  {
   "cell_type": "code",
   "execution_count": null,
   "metadata": {},
   "outputs": [],
   "source": []
  },
  {
   "cell_type": "code",
   "execution_count": null,
   "metadata": {},
   "outputs": [],
   "source": []
  },
  {
   "cell_type": "markdown",
   "metadata": {
    "deletable": false,
    "editable": false,
    "run_control": {
     "frozen": true
    }
   },
   "source": [
    "**Exercise 12**\n",
    "\n",
    "Show that $\\displaystyle \\lim_{x\\rightarrow 0}\\frac{\\cos(2x)-1}{\\cos(x)-1}=4$\n",
    "\n",
    "Do this by first creating an array $x$ that has the values $1.0,\\, 0.5,\\, 0.1,\\, 0.01,\\, 0.001,\\, 0.0001$. Then create a new array $y$ in which each element is calculated using the values in $x$ by using $\\displaystyle \\frac{\\cos(2x)-1}{\\cos(x) -1}$. Compare the results in $y$ with the value $4$ by taking the absolute value of the difference between them."
   ]
  },
  {
   "cell_type": "code",
   "execution_count": null,
   "metadata": {},
   "outputs": [],
   "source": []
  },
  {
   "cell_type": "code",
   "execution_count": null,
   "metadata": {},
   "outputs": [],
   "source": []
  },
  {
   "cell_type": "code",
   "execution_count": null,
   "metadata": {},
   "outputs": [],
   "source": []
  },
  {
   "cell_type": "markdown",
   "metadata": {
    "deletable": false,
    "editable": false,
    "run_control": {
     "frozen": true
    }
   },
   "source": [
    "**Exercise 13**\n",
    "\n",
    "Create the following three 2D arrays:\n",
    "\n",
    "$\\displaystyle\\begin{array}{ccc}\n",
    "A=\\left[ \\begin{array}{ccc} 1 & -3 & 5 \\\\ 2 & 2 & 4 \\\\ -2 & 0 & 6  \\end{array} \\right] \\quad &\n",
    "B=\\left[ \\begin{array}{ccc} 0 & -2 & 1 \\\\ 5 & 1 & -6 \\\\ 2 & 7 & -1 \\end{array} \\right] \\quad &\n",
    "C=\\left[ \\begin{array}{ccc} -3 & 4 & -1 \\\\ 0 & 8 & 2 \\\\ -3 & 5 & 3 \\end{array} \\right]\n",
    "\\end{array}$\n",
    "\n",
    "1. Calculate $A+B$ and $B+A$ to show that addition of arrays is commutative\n",
    "\n",
    "1. Calculate $A+(B+C)$ and $(A+B)+C$ to show that addition of arrays is associative\n",
    "\n",
    "1. Calculate $3(A+C)$ and $3A+3C$ to show that, when arrays are multiplied by a scalar, the multiplication is distributive\n",
    "\n",
    "1. Calculate $A\\times(B+C)$ and $A\\times B + A\\times C$ to show that array multiplication is distributive"
   ]
  },
  {
   "cell_type": "code",
   "execution_count": null,
   "metadata": {},
   "outputs": [],
   "source": []
  },
  {
   "cell_type": "code",
   "execution_count": null,
   "metadata": {},
   "outputs": [],
   "source": []
  },
  {
   "cell_type": "code",
   "execution_count": null,
   "metadata": {},
   "outputs": [],
   "source": []
  },
  {
   "cell_type": "code",
   "execution_count": null,
   "metadata": {},
   "outputs": [],
   "source": []
  },
  {
   "cell_type": "code",
   "execution_count": null,
   "metadata": {},
   "outputs": [],
   "source": []
  },
  {
   "cell_type": "code",
   "execution_count": null,
   "metadata": {},
   "outputs": [],
   "source": []
  },
  {
   "cell_type": "code",
   "execution_count": null,
   "metadata": {},
   "outputs": [],
   "source": []
  },
  {
   "cell_type": "markdown",
   "metadata": {
    "deletable": false,
    "editable": false,
    "run_control": {
     "frozen": true
    }
   },
   "source": [
    ">**Wrap it up**\n",
    ">\n",
    ">Execute the time stamp code cell below to show the time and date you finished and tested this script.\n",
    ">\n",
    ">Click on the **Save** button and then the **Close and halt** button when you are done. **Submit this notebook to *Canvas* before the due date/time to receive credit.**"
   ]
  },
  {
   "cell_type": "code",
   "execution_count": null,
   "metadata": {
    "deletable": false,
    "editable": false
   },
   "outputs": [],
   "source": [
    "from datetime import datetime\n",
    "from pytz import timezone\n",
    "print(datetime.now(timezone('US/Eastern')))"
   ]
  }
 ],
 "metadata": {
  "kernelspec": {
   "display_name": "Python 3",
   "language": "python",
   "name": "python3"
  },
  "language_info": {
   "codemirror_mode": {
    "name": "ipython",
    "version": 3
   },
   "file_extension": ".py",
   "mimetype": "text/x-python",
   "name": "python",
   "nbconvert_exporter": "python",
   "pygments_lexer": "ipython3",
   "version": "3.7.5"
  },
  "varInspector": {
   "cols": {
    "lenName": 16,
    "lenType": 16,
    "lenVar": 40
   },
   "kernels_config": {
    "python": {
     "delete_cmd_postfix": "",
     "delete_cmd_prefix": "del ",
     "library": "var_list.py",
     "varRefreshCmd": "print(var_dic_list())"
    },
    "r": {
     "delete_cmd_postfix": ") ",
     "delete_cmd_prefix": "rm(",
     "library": "var_list.r",
     "varRefreshCmd": "cat(var_dic_list()) "
    }
   },
   "types_to_exclude": [
    "module",
    "function",
    "builtin_function_or_method",
    "instance",
    "_Feature"
   ],
   "window_display": false
  }
 },
 "nbformat": 4,
 "nbformat_minor": 1
}
