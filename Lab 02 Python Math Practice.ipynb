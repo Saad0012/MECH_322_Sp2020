{
  "cells": [
    {
      "cell_type": "markdown",
      "source": [
        "# Py 1: Python Math Practice"
      ],
      "metadata": {}
    },
    {
      "cell_type": "markdown",
      "source": [
        "**NAME:** Your name here\n",
        "\n",
        "**Score:**"
      ],
      "metadata": {}
    },
    {
      "cell_type": "code",
      "source": [
        "from datetime import datetime\n",
        "from pytz import timezone\n",
        "print(datetime.now(timezone(\"US/Eastern\")))"
      ],
      "outputs": [],
      "execution_count": null,
      "metadata": {}
    },
    {
      "cell_type": "markdown",
      "source": [
        "## Purpose and Tasks to Complete:\n",
        "\n",
        "Explore the use of *Python’s* elementary arithmetic and math functions to solve problems and display results.\n",
        "\n",
        "1. Replace \"Your name here\" in the cell below the assignment title with your first and last names\n",
        "2. Execute the date stamp cell above this one using \"Ctrl-Enter\"\n",
        "3. Complete each of the following calculations using *Python*\n",
        "    - Don’t worry if you make a mistake. Fix the mistake, execute the cell again, and keep going\n",
        "    - Keep in mind that sometimes it is easier to solve a problem by doing it a bit at a time instead of everything at once. You can use `_` to fetch the answer of the last calculation that was not assigned to a name (do this sparingly)\n",
        "    - Enter and execute the necessary command(s) for each problem in the provided code cell(s) below the problem statement.\n",
        "    - The expected results (with fewer decimal places than you should get) are given next to each problem number\n",
        "    - **Important:** Do not type answers from one calculation into another. Use variables or `_` instead\n",
        "4. Finish the assignment by executing the code cell at the end of this document and submitting your document to *Canvas*"
      ],
      "metadata": {}
    },
    {
      "cell_type": "markdown",
      "source": [
        "   \n",
        "**Do this first!** \n",
        "\n",
        "> Execute the following cell first in order to use `math` module functions. If you close and then re-open this document, you will need to re-execute the cell again before in order for the `math` module to be available."
      ],
      "metadata": {}
    },
    {
      "cell_type": "code",
      "source": [
        "import math     # Execute this cell first in order to use math module functions"
      ],
      "outputs": [],
      "execution_count": null,
      "metadata": {}
    },
    {
      "cell_type": "markdown",
      "source": [
        "**Exercise 1**, answer = `0.84934`\n",
        "\n",
        "> $\\displaystyle \\frac{\\sqrt{41^2-5.2^2}}{e^5-100.53}$"
      ],
      "metadata": {}
    },
    {
      "cell_type": "code",
      "source": [],
      "outputs": [],
      "execution_count": null,
      "metadata": {}
    },
    {
      "cell_type": "markdown",
      "source": [
        "**Exercise 2**, answer = `5.8685`\n",
        "\n",
        "> $\\displaystyle\\sqrt[3]{132}+\\frac{\\ln{(500)}}{8} $"
      ],
      "metadata": {}
    },
    {
      "cell_type": "code",
      "source": [],
      "outputs": [],
      "execution_count": null,
      "metadata": {}
    },
    {
      "cell_type": "markdown",
      "source": [
        "**Exercise 3**, answer = `2362.6`\n",
        "\n",
        "> $\\displaystyle \\frac{24.5+64/3.5^2+8.3\\cdot 12.5^3}{\\sqrt{76.4}-28/15} $"
      ],
      "metadata": {}
    },
    {
      "cell_type": "code",
      "source": [],
      "outputs": [],
      "execution_count": null,
      "metadata": {}
    },
    {
      "cell_type": "markdown",
      "source": [
        "**Exercise 4**, answer = `18.955`\n",
        "\n",
        "> $\\displaystyle (5.9^2 - 2.4^2)/3 + \\left( \\frac{\\log_{10}{12890}}{e^{0.3}} \\right)^2 $"
      ],
      "metadata": {}
    },
    {
      "cell_type": "code",
      "source": [],
      "outputs": [],
      "execution_count": null,
      "metadata": {}
    },
    {
      "cell_type": "markdown",
      "source": [
        "**Exercise 5**, answer =  `1.6965`\n",
        "\n",
        "> $\\displaystyle \\cos{\\left( \\frac{7\\pi}{9} \\right)} + \\tan{\\left( \\frac{7}{15}\\pi \\right)} \\sin(15 ^{\\circ}) $"
      ],
      "metadata": {}
    },
    {
      "cell_type": "code",
      "source": [],
      "outputs": [],
      "execution_count": null,
      "metadata": {}
    },
    {
      "cell_type": "markdown",
      "source": [
        "**Exercise 6**, answer = `-0.64732`\n",
        "\n",
        "> $\\displaystyle \\sin^2{80^{\\circ}} - \\frac{(\\cos{14^{\\circ}}\\sin{80^{\\circ}})^2}{\\sqrt[3]{0.18}} $"
      ],
      "metadata": {}
    },
    {
      "cell_type": "code",
      "source": [],
      "outputs": [],
      "execution_count": null,
      "metadata": {}
    },
    {
      "cell_type": "markdown",
      "source": [
        "**Exercise 7a**, answer = `128.97`\n",
        "\n",
        "> $\\displaystyle t=3.2\\\\[0.25cm] \\displaystyle56t-9.81\\frac{t^2}{2}$"
      ],
      "metadata": {}
    },
    {
      "cell_type": "code",
      "source": [],
      "outputs": [],
      "execution_count": null,
      "metadata": {}
    },
    {
      "cell_type": "markdown",
      "source": [
        "**Exercise 7b**, answer = `9.6685`\n",
        "\n",
        "> Note: You do not need to re-assign a value to `t` again. The variable assignment is remembered from one cell to the next.\n",
        "> \n",
        "> $\\displaystyle 14e^{-0.1t}\\sin(2\\pi t)$"
      ],
      "metadata": {}
    },
    {
      "cell_type": "code",
      "source": [],
      "outputs": [],
      "execution_count": null,
      "metadata": {}
    },
    {
      "cell_type": "markdown",
      "source": [
        "**Exercise 8a**, answer = `18.669`\n",
        "\n",
        "> $\\displaystyle x=5.1 \\qquad y = 4.2 \\\\[0.25cm] \\displaystyle\\frac{3}{4}xy - \\frac{7x}{y^2} + \\sqrt{xy}$"
      ],
      "metadata": {}
    },
    {
      "cell_type": "code",
      "source": [],
      "outputs": [],
      "execution_count": null,
      "metadata": {}
    },
    {
      "cell_type": "markdown",
      "source": [
        "**Exercise 8b**, answer = `448.58`\n",
        "\n",
        "> $\\displaystyle (xy)^2 - \\frac{x+y}{(x-y)^2} + \\sqrt{\\frac{x+y}{2x-y}}$"
      ],
      "metadata": {}
    },
    {
      "cell_type": "code",
      "source": [],
      "outputs": [],
      "execution_count": null,
      "metadata": {}
    },
    {
      "cell_type": "markdown",
      "source": [
        "**Exercise 9a**, answer = `-0.14587`\n",
        "\n",
        ">$\\displaystyle a=12 \\qquad b=5.6 \\\\[0.25cm]\n",
        "\\displaystyle c=\\frac{3a}{b^2}\\\\[0.5cm]\n",
        "\\displaystyle d=\\frac{(a-b)^c}{c} \\\\[0.5cm] \\displaystyle\\frac{a}{b} + \\frac{d-c}{d+c}-(d-b)^2 $\n",
        "</div>"
      ],
      "metadata": {}
    },
    {
      "cell_type": "code",
      "source": [],
      "outputs": [],
      "execution_count": null,
      "metadata": {}
    },
    {
      "cell_type": "markdown",
      "source": [
        "**Exercise 9b**, answer = `2292.5`\n",
        "\n",
        "> $\\displaystyle e^{\\Large{\\left(\\frac{d-c}{a-2b}\\right)}} + \\ln\\left( \\left| c - d + \\frac{b}{a} \\right| \\right) $\n",
        "</div>"
      ],
      "metadata": {}
    },
    {
      "cell_type": "code",
      "source": [],
      "outputs": [],
      "execution_count": null,
      "metadata": {}
    },
    {
      "cell_type": "markdown",
      "source": [
        "**Exercise 10**, answer = `0.96593` for both sides\n",
        "\n",
        "> Verify the following trigonometric identity by calculating the values of the left and right sides of the equation separataely using $x={\\pi}/{12}$\n",
        "> \n",
        "> $\\displaystyle \\sin{(5x)}= 5\\sin{x} - 20\\sin^3{x} + 16\\sin^5{x} $"
      ],
      "metadata": {}
    },
    {
      "cell_type": "code",
      "source": [],
      "outputs": [],
      "execution_count": null,
      "metadata": {}
    },
    {
      "cell_type": "markdown",
      "source": [
        "**Exercise 11**, answer = `0.062500` for both sides\n",
        "\n",
        "> Verify the following trigonometric identity by calculating the values of the left and right sides of the equation separately using $x={\\pi}/{12}$\n",
        "> \n",
        "> $\\displaystyle \\sin^2{x}\\cos^2{x}= \\frac{1-\\cos{(4x)}}{8} $"
      ],
      "metadata": {}
    },
    {
      "cell_type": "code",
      "source": [],
      "outputs": [],
      "execution_count": null,
      "metadata": {}
    },
    {
      "cell_type": "markdown",
      "source": [
        "**Exercise 12**, answer = `3.0777` for both sides\n",
        "\n",
        "> Verify the following trigonometric identity by calculating the values of the left and right sides of the equation separately using $x=24^{\\circ}$\n",
        "> \n",
        "> $\\displaystyle \\tan(3x)= \\frac{3\\tan{x}-\\tan^3{x}}{1-3\\tan^2{x}} $"
      ],
      "metadata": {}
    },
    {
      "cell_type": "code",
      "source": [],
      "outputs": [],
      "execution_count": null,
      "metadata": {}
    },
    {
      "cell_type": "markdown",
      "source": [
        "**Exercise 13**, answer = `-0.10453` for both sides\n",
        "\n",
        "> Verify the following trigonometric identity by calculating the values of the left and right sides of the equation separately using $x=24^{\\circ}$\n",
        "> \n",
        "> $\\displaystyle \\cos{(4x)}= 8(\\cos^4{x} - \\cos^2{x}) + 1 $"
      ],
      "metadata": {}
    },
    {
      "cell_type": "code",
      "source": [],
      "outputs": [],
      "execution_count": null,
      "metadata": {}
    },
    {
      "cell_type": "markdown",
      "source": [
        "**Exercise 14**, answer = `1.4239` for both sides\n",
        "\n",
        "> Define two variables: `alpha`$ = \\pi / 6$ and `beta` $ =3\\pi / 8$. Using these variables, show that the following trigonometric identity is correct by calculating the values of the left and right sides of the equation separately.\n",
        "> \n",
        "> $\\displaystyle \\sin{\\alpha}+\\sin{\\beta} = 2\\sin\\left( \\frac{\\alpha + \\beta}{2} \\right)\\cos\\left( \\frac{\\alpha - \\beta}{2} \\right)$"
      ],
      "metadata": {}
    },
    {
      "cell_type": "code",
      "source": [],
      "outputs": [],
      "execution_count": null,
      "metadata": {}
    },
    {
      "cell_type": "markdown",
      "source": [
        "**Exercise 15**, answer = `8.1072`\n",
        "\n",
        "> Given the following integral:\n",
        "> \n",
        "> $\\displaystyle \\int{x\\sin{ax}\\,dx} = \\frac{\\sin{ax}}{a^2}-\\frac{x\\cos{ax}}{a}$\n",
        "> \n",
        "> Use *Python's* elementary arithmetic and math functions to calculate the result of the following definite integral. **Note:** you already have the solution to the indefinte integral above, so you do not need to integrate anything. Simply apply calculus principles for finding the result of the definite integral.\n",
        "> \n",
        "> $\\displaystyle \\int^{\\Large{\\frac{3\\pi}{2}}}_{\\Large{\\frac{\\pi}{3}}}{x\\sin(0.6x)\\,dx}$\n",
        "</div>"
      ],
      "metadata": {}
    },
    {
      "cell_type": "code",
      "source": [],
      "outputs": [],
      "execution_count": null,
      "metadata": {}
    },
    {
      "cell_type": "markdown",
      "source": [
        "**Exercise 16a**, `c = 3.2494`\n",
        "\n",
        "> A non-right triangle has sides named $a$, $b$, and $c$. The vertices opposite the three sides are named $A$, $B$, and $C$ respectively. The angles at each of the vertices are named $\\alpha$, $\\beta$, and $\\gamma$ respectively.\n",
        ">\n",
        "> For a triangle with $a=5 $, $b=7 $, and $\\gamma=25^{\\circ}$, calculate the length of side $c$ using the Law of Cosines: \n",
        ">\n",
        ">$\\displaystyle c^2 = a^2 + b^2 -2ab\\cos{\\gamma}$"
      ],
      "metadata": {}
    },
    {
      "cell_type": "code",
      "source": [],
      "outputs": [],
      "execution_count": null,
      "metadata": {}
    },
    {
      "cell_type": "markdown",
      "source": [
        "**Exercise 16b**, `alpha = 40.565, beta = 114.44`\n",
        "\n",
        "> Using the values from **16a** (do not re-define the variables), calculate the angles $\\alpha$ and $\\beta$ in degrees using the Law of Sines. Recall that the three angles of a triangle must add up to 180˚. Be watchful of the ambiguous case.\n",
        ">\n",
        "> $\\displaystyle \\frac{\\sin{\\alpha}}{a}= \\frac{\\sin{\\beta}}{b}=\\frac{\\sin{\\gamma}}{c}$"
      ],
      "metadata": {}
    },
    {
      "cell_type": "code",
      "source": [],
      "outputs": [],
      "execution_count": null,
      "metadata": {}
    },
    {
      "cell_type": "markdown",
      "source": [
        "**Exercise 16c**, answer = `-0.16667` for both sides\n",
        "\n",
        "> Using the values from **16a** and results from **16b**, verify the Law of Tangents by calulating the left and right sides of the equation separately:\n",
        ">\n",
        "> $\\displaystyle \\frac{a-b}{a+b} = \\frac{\\tan\\left({\\frac{1}{2}}{(\\alpha-\\beta\\,)} \\right)}{\\tan\\left({\\frac{1}{2}}{(\\alpha+\\beta\\,)} \\right)}$"
      ],
      "metadata": {}
    },
    {
      "cell_type": "code",
      "source": [],
      "outputs": [],
      "execution_count": null,
      "metadata": {}
    },
    {
      "cell_type": "markdown",
      "source": [
        "**Exercise 17a**, `c = 55.337`\n",
        "\n",
        ">A non-right triangle similar to that from **16a** with $a=48$, $b=34$, and $\\gamma=83^{\\circ}$ is inscribed in a circle of radius $r$. Using variable assignments for $a$, $b$, and $\\gamma$, calculate $c$ using the Law of Cosines."
      ],
      "metadata": {}
    },
    {
      "cell_type": "code",
      "source": [],
      "outputs": [],
      "execution_count": null,
      "metadata": {}
    },
    {
      "cell_type": "markdown",
      "source": [
        "**Exercise 17b**, `s = 68.669, r = 27.876`\n",
        "\n",
        "> Using the values and results from **17a**, calculate the radius $r$ of the circle circumscribing the triangle using the following formula:\n",
        ">\n",
        "> $\\displaystyle r= \\frac{abc}{4\\sqrt{s(s-a)(s-b)(s-c)}} $\n",
        ">\n",
        "> where $\\displaystyle s=(a+b+c)/2 $"
      ],
      "metadata": {}
    },
    {
      "cell_type": "code",
      "source": [],
      "outputs": [],
      "execution_count": null,
      "metadata": {}
    },
    {
      "cell_type": "markdown",
      "source": [
        "**Exercise 18**, `C = 85.552`\n",
        "\n",
        "> The circumference of an ellipse can be approximated by: \n",
        "> \n",
        "> $\\displaystyle C=\\pi\\left( 3(a+b) - \\sqrt{(3a+b)(a+3b)} \\,\\right) $\n",
        "> \n",
        "> Calculate the circumference of an ellipse where $a=16$ and $b=11$\n"
      ],
      "metadata": {}
    },
    {
      "cell_type": "code",
      "source": [],
      "outputs": [],
      "execution_count": null,
      "metadata": {}
    },
    {
      "cell_type": "markdown",
      "source": [
        "**Exercise 19**, `18 empty seats, 9 buses, 333 total if all full`\n",
        "\n",
        "> 315 people have to be transported using buses that have a capacity of 37 seats. Using a single line expression that includes the `ceil` command from the `math` library, calculate how many seats will remain empty if enough buses are ordered to transport all of the people.\n",
        ">\n",
        "> How many buses are required?\n",
        ">\n",
        "> How many people could be transported if all buses were filled? \n"
      ],
      "metadata": {}
    },
    {
      "cell_type": "code",
      "source": [],
      "outputs": [],
      "execution_count": null,
      "metadata": {}
    },
    {
      "cell_type": "code",
      "source": [],
      "outputs": [],
      "execution_count": null,
      "metadata": {}
    },
    {
      "cell_type": "code",
      "source": [],
      "outputs": [],
      "execution_count": null,
      "metadata": {}
    },
    {
      "cell_type": "markdown",
      "source": [
        "**Exercise 20**, `37 leftover apples`\n",
        "\n",
        "> 739 apples are to be packed and shipped such that 54 are placed in a box. By typing a single line expression that uses integer division `//`, calculate how many apples will remain unpacked if only full boxes can be shipped.\n",
        ">\n",
        "> Calculate it a second time using remainder division `%`."
      ],
      "metadata": {}
    },
    {
      "cell_type": "code",
      "source": [],
      "outputs": [],
      "execution_count": null,
      "metadata": {}
    },
    {
      "cell_type": "code",
      "source": [],
      "outputs": [],
      "execution_count": null,
      "metadata": {}
    },
    {
      "cell_type": "markdown",
      "source": [
        "**Exercise 21**, `316501.67 & 317000`\n",
        "\n",
        "> Assign the number $316,501.673$ to a variable and then perform each of the following rounding operations. Ask for help on the `round` function by typing `help(round)` before doing any rounding.\n",
        ">\n",
        "> * Round to the nearest hundredth\n",
        "> \n",
        "> * Round to the nearest thousand"
      ],
      "metadata": {}
    },
    {
      "cell_type": "code",
      "source": [],
      "outputs": [],
      "execution_count": null,
      "metadata": {}
    },
    {
      "cell_type": "code",
      "source": [],
      "outputs": [],
      "execution_count": null,
      "metadata": {}
    },
    {
      "cell_type": "code",
      "source": [],
      "outputs": [],
      "execution_count": null,
      "metadata": {}
    },
    {
      "cell_type": "markdown",
      "source": [
        "**Exercise 22**, `Vab = 0.10793`\n",
        "\n",
        "> The voltage difference $V_{ab}$ between points $a$ and $b$ on a Wheatstone bridge circuit is:\n",
        ">\n",
        "> $\\displaystyle V_{ab}=V \\left( \\frac{R_1 R_3 - R_2 R_4}{(R_1 + R_2)(R_3 + R_4)} \\right)$\n",
        ">\n",
        "> Calculate the voltage difference when $V = 14 \\text{ volts}$, $R_1 = 120.6 \\text{ ohms}$, $R_2 = 119.3 \\text{ ohms}$, $R_3 = 121.2 \\text{ ohms}$, and $R_4 = 118.8 \\text{ ohms}$. Assign the given values descriptive variables, like `V` or `R1`, before performing the voltage difference calculation."
      ],
      "metadata": {}
    },
    {
      "cell_type": "code",
      "source": [],
      "outputs": [],
      "execution_count": null,
      "metadata": {}
    },
    {
      "cell_type": "code",
      "source": [],
      "outputs": [],
      "execution_count": null,
      "metadata": {}
    },
    {
      "cell_type": "markdown",
      "source": [
        "**Exercise 23a**, `C49_6 = 1.3984e+07`\n",
        "\n",
        "> The number of combinations $C_{n,r}$ of taking $r$ objects out of $n$ objects is given by:\n",
        ">\n",
        "> $\\displaystyle C_{n,r} = \\frac{n!}{r!(n-r)!} $\n",
        ">\n",
        "> Using variables for $n$ and $r$ and `math.factorial()`, determine how many combinations are possible in a lottery game for selecting 6 numbers that are drawn out of 49. You might want to use the command `from math import factorial` so that you can use `factorial()` instead of `math.factorial()` in your calculations."
      ],
      "metadata": {}
    },
    {
      "cell_type": "code",
      "source": [],
      "outputs": [],
      "execution_count": null,
      "metadata": {}
    },
    {
      "cell_type": "markdown",
      "source": [
        "**Exercise 23b**, answer = `0.13238`\n",
        "\n",
        "> Using the expression given in **22a** and the expression given below, use variables to determine the probability of guessing two out of six drawn numbers.\n",
        ">\n",
        "> $\\displaystyle \\frac{C_{6,2}C_{43,4}}{C_{49,6}} $"
      ],
      "metadata": {}
    },
    {
      "cell_type": "code",
      "source": [],
      "outputs": [],
      "execution_count": null,
      "metadata": {}
    },
    {
      "cell_type": "markdown",
      "source": [
        "**Exercise 24a**, answer = `-1.7782`\n",
        "\n",
        "> The formula for changing the base of a logarithm is:\n",
        ">\n",
        "> $\\displaystyle \\log_a{N} = \\frac{\\log_b{N}}{\\log_b{a}}$\n",
        ">\n",
        "> Use `math.log()` in the above expression to calculate $\\log_4(0.085)$ and test the result in the second code cell using `math.log(0.085,4)`."
      ],
      "metadata": {}
    },
    {
      "cell_type": "code",
      "source": [],
      "outputs": [],
      "execution_count": null,
      "metadata": {}
    },
    {
      "cell_type": "code",
      "source": [],
      "outputs": [],
      "execution_count": null,
      "metadata": {}
    },
    {
      "cell_type": "markdown",
      "source": [
        "**Exercise 24b**, answer = `4.0816`\n",
        "\n",
        "> Use the same methods as used for **23a** except use the **`math.log10()`** function to calculate $\\log_6(1500)$. Test the result in the second code cell using the same method as for part **a**."
      ],
      "metadata": {}
    },
    {
      "cell_type": "code",
      "source": [],
      "outputs": [],
      "execution_count": null,
      "metadata": {}
    },
    {
      "cell_type": "code",
      "source": [],
      "outputs": [],
      "execution_count": null,
      "metadata": {}
    },
    {
      "cell_type": "markdown",
      "source": [
        "**Exercise 25**, `Req = 29.495`\n",
        "\n",
        "> The equivalent resistance $R_{eq}$ of four resistors ($R_1$, $R_2$, $R_3$, and $R_4$) connected in parallel is given by:\n",
        ">\n",
        "> $\\displaystyle R_{eq} =\\frac{1}{\\large \\frac{1}{R_1}+\\frac{1}{R_2}+\\frac{1}{R_3}+\\frac{1}{R_4}} $\n",
        ">\n",
        "> Assign and use variables for each resistance to calculate $R_{eq}$ if $R_1 = 120\\Omega$, $R_2 = 220\\Omega$, $R_3 = 75\\Omega$, and $R_4 = 130\\Omega$."
      ],
      "metadata": {}
    },
    {
      "cell_type": "code",
      "source": [],
      "outputs": [],
      "execution_count": null,
      "metadata": {}
    },
    {
      "cell_type": "code",
      "source": [],
      "outputs": [],
      "execution_count": null,
      "metadata": {}
    },
    {
      "cell_type": "markdown",
      "source": [
        "**Exercise 26**, `B1 = 89414.22, B2 = 89525.47, 111.25 more`\n",
        "\n",
        "> The value $B$ of a principal $P$ that is deposited in a saving account with a fixed annual interest rate $r$ after $n$ years can be calculated by the formula:\n",
        ">\n",
        "> $\\displaystyle B = P\\left(1 + \\frac{r}{m} \\right)^{mn} $\n",
        "> \n",
        "> where $m$ is the number of times that the interest is compounded annually. Consider a $\\$80,000$ deposit for $5$ years with an annual interest rate of $2.25\\%$. Using variables, determine how much more money will be earned if the interest is compounded daily instead of yearly. Keep in mind that $2.25\\%$ must be entered as **`0.0225`** in *Python*.\n",
        ">\n",
        "> Use the **`print()`** function with f-strings to display results with a leading $\\$ $, a comma separator, and two decimal-places. We will learn more about this later. For now, use expressions such as `print(f\"B1 = ${B1:,.2f}\")` and `print(f\"${dollars_more:,.2f} more\")` to display your final results."
      ],
      "metadata": {}
    },
    {
      "cell_type": "code",
      "source": [],
      "outputs": [],
      "execution_count": null,
      "metadata": {}
    },
    {
      "cell_type": "markdown",
      "source": [
        "**Exercise 27a**, answer = `79/24`\n",
        "\n",
        "> *Python* has a `fractions` library that includes a `Fraction()` function. Run the `from fractions import Fraction as F` cell before answering this problem. Once executed, you can enter `F(7,8)` to create the fraction $7/8$. You can also determine the fractional equivalent of a decimal value such as $\\pi$ using the same function; `F(math.pi)`. If you add the `.limit_denominator()` method to the function, you can change the value of the calculated fraction. For example `F(math.pi).limit_denominator(5000)` will convert $\\pi$ to a fraction and limit the denominator to a value less than 5000. You can perform math on fractional objects as long as all objects are either fractions or integers.\n",
        ">\n",
        "> Use `F()` and a `print()` command to calculate $5/8 + 16/6$ and display the result as a fraction.\n"
      ],
      "metadata": {}
    },
    {
      "cell_type": "code",
      "source": [
        "from fractions import Fraction as F"
      ],
      "outputs": [],
      "execution_count": null,
      "metadata": {}
    },
    {
      "cell_type": "code",
      "source": [],
      "outputs": [],
      "execution_count": null,
      "metadata": {}
    },
    {
      "cell_type": "markdown",
      "source": [
        "**Exercise 27b**, answer = `26431/3900`\n",
        "\n",
        "Use `F()` and a `print()` command to calculate $1/3 - 11/13 + 2.7^2$ and display the result as a fraction. You will need to limit the denominator to 5000 for the $2.7^2$ term.\n",
        "</div>"
      ],
      "metadata": {}
    },
    {
      "cell_type": "code",
      "source": [],
      "outputs": [],
      "execution_count": null,
      "metadata": {}
    },
    {
      "cell_type": "markdown",
      "source": [
        "**28**, `Error = 0.0041577`\n",
        "\n",
        "> Stirling's approximation for large factorials is given by:\n",
        ">\n",
        "> $\\displaystyle n! = \\sqrt{2\\,\\pi\\, n}\\left( \\frac{n}{e} \\right)^n $\n",
        ">\n",
        "> Use the above formula for calculating $20!$. Calculate the error between using Stirling's approximation and the true value (which can be found with `math.factorial()`) with the following formula:\n",
        "> \n",
        "> $\\displaystyle \\text{Error} = \\frac{\\text{True Value} - \\text{Approximate Value}}{\\text{True Value}}$"
      ],
      "metadata": {}
    },
    {
      "cell_type": "code",
      "source": [],
      "outputs": [],
      "execution_count": null,
      "metadata": {}
    },
    {
      "cell_type": "markdown",
      "source": [
        "> Execute the timestamp code cell below when you are all done."
      ],
      "metadata": {}
    },
    {
      "cell_type": "code",
      "source": [
        "from datetime import datetime\n",
        "from pytz import timezone\n",
        "print(datetime.now(timezone(\"US/Eastern\")))"
      ],
      "outputs": [],
      "execution_count": null,
      "metadata": {}
    },
    {
      "cell_type": "markdown",
      "source": [
        "Click on the **Save** button and then select the **Close and halt** option from the **File** menu when you are done. "
      ],
      "metadata": {}
    }
  ],
  "metadata": {
    "kernel_info": {
      "name": "python3"
    },
    "kernelspec": {
      "name": "python3",
      "language": "python",
      "display_name": "Python 3"
    },
    "language_info": {
      "name": "python",
      "version": "3.7.4",
      "mimetype": "text/x-python",
      "codemirror_mode": {
        "name": "ipython",
        "version": 3
      },
      "pygments_lexer": "ipython3",
      "nbconvert_exporter": "python",
      "file_extension": ".py"
    },
    "nteract": {
      "version": "0.15.0"
    },
    "varInspector": {
      "cols": {
        "lenName": 16,
        "lenType": 16,
        "lenVar": 40
      },
      "kernels_config": {
        "python": {
          "delete_cmd_postfix": "",
          "delete_cmd_prefix": "del ",
          "library": "var_list.py",
          "varRefreshCmd": "print(var_dic_list())"
        },
        "r": {
          "delete_cmd_postfix": ") ",
          "delete_cmd_prefix": "rm(",
          "library": "var_list.r",
          "varRefreshCmd": "cat(var_dic_list()) "
        }
      },
      "types_to_exclude": [
        "module",
        "function",
        "builtin_function_or_method",
        "instance",
        "_Feature"
      ],
      "window_display": false
    }
  },
  "nbformat": 4,
  "nbformat_minor": 1
}
